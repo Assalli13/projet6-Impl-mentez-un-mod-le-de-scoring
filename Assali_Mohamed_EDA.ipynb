{
 "cells": [
  {
   "cell_type": "markdown",
   "id": "3ead54bc",
   "metadata": {
    "toc": true
   },
   "source": [
    "<h1>Table of Contents<span class=\"tocSkip\"></span></h1>\n",
    "<div class=\"toc\"><ul class=\"toc-item\"><li><span><a href=\"#Description-des-données\" data-toc-modified-id=\"Description-des-données-1.1\"><span class=\"toc-item-num\">1.1&nbsp;&nbsp;</span>Description des données</a></span><ul class=\"toc-item\"><li><span><a href=\"#Lecture-des-données\" data-toc-modified-id=\"Lecture-des-données-1.1.1\"><span class=\"toc-item-num\">1.1.1&nbsp;&nbsp;</span>Lecture des données</a></span></li><li><span><a href=\"#Informations-sur-les-donéees\" data-toc-modified-id=\"Informations-sur-les-donéees-1.1.2\"><span class=\"toc-item-num\">1.1.2&nbsp;&nbsp;</span>Informations sur les donéees</a></span><ul class=\"toc-item\"><li><span><a href=\"#structure-de-données\" data-toc-modified-id=\"structure-de-données-1.1.2.1\"><span class=\"toc-item-num\">1.1.2.1&nbsp;&nbsp;</span>structure de données</a></span></li></ul></li><li><span><a href=\"#Informations-sur-les-données-manquantes\" data-toc-modified-id=\"Informations-sur-les-données-manquantes-1.1.3\"><span class=\"toc-item-num\">1.1.3&nbsp;&nbsp;</span>Informations sur les données manquantes</a></span></li></ul></li><li><span><a href=\"#Merge-&amp;-aggrégations\" data-toc-modified-id=\"Merge-&amp;-aggrégations-2.1\"><span class=\"toc-item-num\">2.1&nbsp;&nbsp;</span>Merge &amp; aggrégations</a></span><ul class=\"toc-item\"><li><span><a href=\"#test-de-quelques-fonctions\" data-toc-modified-id=\"test-de-quelques-fonctions-2.1.1\"><span class=\"toc-item-num\">2.1.1&nbsp;&nbsp;</span>test de quelques fonctions</a></span></li><li><span><a href=\"#Merge-des-datasets-Pos_cash_Balance-et-Previous_application\" data-toc-modified-id=\"Merge-des-datasets-Pos_cash_Balance-et-Previous_application-2.1.2\"><span class=\"toc-item-num\">2.1.2&nbsp;&nbsp;</span>Merge des datasets Pos_cash_Balance et Previous_application</a></span></li><li><span><a href=\"#Merges-des-datasets-Installements-payments-et-previous-application\" data-toc-modified-id=\"Merges-des-datasets-Installements-payments-et-previous-application-2.1.3\"><span class=\"toc-item-num\">2.1.3&nbsp;&nbsp;</span>Merges des datasets Installements payments et previous application</a></span></li><li><span><a href=\"#Merge-des-datasets--Credit_card_balance-et-previous-application\" data-toc-modified-id=\"Merge-des-datasets--Credit_card_balance-et-previous-application-2.1.4\"><span class=\"toc-item-num\">2.1.4&nbsp;&nbsp;</span>Merge des datasets  Credit_card_balance et previous application</a></span></li><li><span><a href=\"#Merge-des-datasets--Bureau-et-Bureau-Balance\" data-toc-modified-id=\"Merge-des-datasets--Bureau-et-Bureau-Balance-2.1.5\"><span class=\"toc-item-num\">2.1.5&nbsp;&nbsp;</span>Merge des datasets  Bureau et Bureau Balance</a></span></li><li><span><a href=\"#merge-de-bureau-avec-application-train/test\" data-toc-modified-id=\"merge-de-bureau-avec-application-train/test-2.1.6\"><span class=\"toc-item-num\">2.1.6&nbsp;&nbsp;</span>merge de bureau avec application train/test</a></span></li></ul></li><li><span><a href=\"#merge-de-previous-application-avec-application-train/test\" data-toc-modified-id=\"merge-de-previous-application-avec-application-train/test-3.1\"><span class=\"toc-item-num\">3.1&nbsp;&nbsp;</span>merge de previous application avec application train/test</a></span></li><li><span><a href=\"#Save_data\" data-toc-modified-id=\"Save_data-4.1\"><span class=\"toc-item-num\">4.1&nbsp;&nbsp;</span>Save_data</a></span></li></ul></div>"
   ]
  },
  {
   "cell_type": "markdown",
   "id": "cc0772c2",
   "metadata": {},
   "source": [
    "# Projet 7 :  Implémentez un modèle de scoring: Analyse exploratoire"
   ]
  },
  {
   "cell_type": "markdown",
   "id": "11de66af",
   "metadata": {},
   "source": [
    "L'objectif est de développer un modèle de scoring de la probabilité de défaut de paiement d'un client pour étayer la décision d'accorder ou non un prêt à un client potentiel en s’appuyant sur des sources de données variées (données comportementales, données provenant d'autres institutions financières, ...). CDans le notebook, vous trouverez des informations sur les différents ensembles de données ainsi qu'une explication détaillée de la procédure de concaténation utilisée.\n"
   ]
  },
  {
   "cell_type": "code",
   "execution_count": 1,
   "id": "6a731212",
   "metadata": {},
   "outputs": [],
   "source": [
    "from datetime import timedelta, datetime, tzinfo, timezone\n",
    "from urllib import request\n",
    "import pandas as pd\n",
    "import matplotlib.pyplot as plt\n",
    "from matplotlib import pyplot, transforms\n",
    "import seaborn as sns\n",
    "import numpy as np\n",
    "import re\n",
    "\n",
    "import IPython.display\n",
    "\n",
    "import warnings\n",
    "warnings.filterwarnings('ignore')\n",
    "sns.set()"
   ]
  },
  {
   "cell_type": "markdown",
   "id": "3eba71fc",
   "metadata": {},
   "source": [
    "## Description des données"
   ]
  },
  {
   "cell_type": "markdown",
   "id": "79e2243c",
   "metadata": {},
   "source": [
    "### Lecture des données "
   ]
  },
  {
   "cell_type": "markdown",
   "id": "8fefea9d",
   "metadata": {},
   "source": [
    "Les données sont plusieurs fichiers '.csv' qui renseignent des informations concernant les clients d'une banque.\n",
    "\n",
    "Le fichier 'application_train' donne de multiples informations sur des clients qui ont effectué un emprunt ainsi que la mention remboursé ou défaut de payement sur cet emprunt.\n",
    "\n",
    "Le fichier application_test renseigne exactement les mêmes informations que le fichier 'application_train', mais il s'agit de déterminer la probabilité de défaut de paiement pour ces nouveaux emprunts.\n",
    "\n",
    "Quant aux autres fichiers il s'agit d'informations relatives à des emprunts antérieurs qui ont été accordés soit par d'autres institutions soit par la même banque.\n",
    "\n",
    "L'organigramme ci-dessous présente l'ensemble des fichiers à notre disposition, leur contenu ansi que les liens qui les relient"
   ]
  },
  {
   "cell_type": "code",
   "execution_count": 2,
   "id": "3efa04d3",
   "metadata": {},
   "outputs": [],
   "source": [
    "file_path = '/Users/admin/Desktop/formation_data_Scientist/projet7/Donnees/' "
   ]
  },
  {
   "cell_type": "code",
   "execution_count": 3,
   "id": "e46bed4f",
   "metadata": {},
   "outputs": [],
   "source": [
    "application_test = pd.read_csv(file_path + 'application_test.csv')\n",
    "application_train = pd.read_csv(file_path + 'application_train.csv')\n",
    "bureau_balance = pd.read_csv(file_path + 'bureau_balance.csv')\n",
    "bureau = pd.read_csv(file_path + 'bureau.csv')\n",
    "credit_card_balance = pd.read_csv(file_path + 'credit_card_balance.csv')\n",
    "#HomeCredit_columns_description = pd.read_csv(file_path + 'HomeCredit_columns_description.csv')\n",
    "installments_payments = pd.read_csv(file_path + 'installments_payments.csv')\n",
    "POS_CASH_balance = pd.read_csv(file_path + 'POS_CASH_balance.csv')\n",
    "previous_application = pd.read_csv(file_path + 'previous_application.csv')\n",
    "sample_submission = pd.read_csv(file_path + 'sample_submission.csv')"
   ]
  },
  {
   "cell_type": "code",
   "execution_count": 4,
   "id": "0c5b4974",
   "metadata": {},
   "outputs": [
    {
     "data": {
      "text/html": [
       "<div>\n",
       "<style scoped>\n",
       "    .dataframe tbody tr th:only-of-type {\n",
       "        vertical-align: middle;\n",
       "    }\n",
       "\n",
       "    .dataframe tbody tr th {\n",
       "        vertical-align: top;\n",
       "    }\n",
       "\n",
       "    .dataframe thead th {\n",
       "        text-align: right;\n",
       "    }\n",
       "</style>\n",
       "<table border=\"1\" class=\"dataframe\">\n",
       "  <thead>\n",
       "    <tr style=\"text-align: right;\">\n",
       "      <th></th>\n",
       "      <th>SK_ID_CURR</th>\n",
       "      <th>NAME_CONTRACT_TYPE</th>\n",
       "      <th>CODE_GENDER</th>\n",
       "      <th>FLAG_OWN_CAR</th>\n",
       "      <th>FLAG_OWN_REALTY</th>\n",
       "      <th>CNT_CHILDREN</th>\n",
       "      <th>AMT_INCOME_TOTAL</th>\n",
       "      <th>AMT_CREDIT</th>\n",
       "      <th>AMT_ANNUITY</th>\n",
       "      <th>AMT_GOODS_PRICE</th>\n",
       "      <th>...</th>\n",
       "      <th>FLAG_DOCUMENT_18</th>\n",
       "      <th>FLAG_DOCUMENT_19</th>\n",
       "      <th>FLAG_DOCUMENT_20</th>\n",
       "      <th>FLAG_DOCUMENT_21</th>\n",
       "      <th>AMT_REQ_CREDIT_BUREAU_HOUR</th>\n",
       "      <th>AMT_REQ_CREDIT_BUREAU_DAY</th>\n",
       "      <th>AMT_REQ_CREDIT_BUREAU_WEEK</th>\n",
       "      <th>AMT_REQ_CREDIT_BUREAU_MON</th>\n",
       "      <th>AMT_REQ_CREDIT_BUREAU_QRT</th>\n",
       "      <th>AMT_REQ_CREDIT_BUREAU_YEAR</th>\n",
       "    </tr>\n",
       "  </thead>\n",
       "  <tbody>\n",
       "    <tr>\n",
       "      <th>0</th>\n",
       "      <td>100001</td>\n",
       "      <td>Cash loans</td>\n",
       "      <td>F</td>\n",
       "      <td>N</td>\n",
       "      <td>Y</td>\n",
       "      <td>0</td>\n",
       "      <td>135000.0</td>\n",
       "      <td>568800.0</td>\n",
       "      <td>20560.5</td>\n",
       "      <td>450000.0</td>\n",
       "      <td>...</td>\n",
       "      <td>0</td>\n",
       "      <td>0</td>\n",
       "      <td>0</td>\n",
       "      <td>0</td>\n",
       "      <td>0.0</td>\n",
       "      <td>0.0</td>\n",
       "      <td>0.0</td>\n",
       "      <td>0.0</td>\n",
       "      <td>0.0</td>\n",
       "      <td>0.0</td>\n",
       "    </tr>\n",
       "    <tr>\n",
       "      <th>1</th>\n",
       "      <td>100005</td>\n",
       "      <td>Cash loans</td>\n",
       "      <td>M</td>\n",
       "      <td>N</td>\n",
       "      <td>Y</td>\n",
       "      <td>0</td>\n",
       "      <td>99000.0</td>\n",
       "      <td>222768.0</td>\n",
       "      <td>17370.0</td>\n",
       "      <td>180000.0</td>\n",
       "      <td>...</td>\n",
       "      <td>0</td>\n",
       "      <td>0</td>\n",
       "      <td>0</td>\n",
       "      <td>0</td>\n",
       "      <td>0.0</td>\n",
       "      <td>0.0</td>\n",
       "      <td>0.0</td>\n",
       "      <td>0.0</td>\n",
       "      <td>0.0</td>\n",
       "      <td>3.0</td>\n",
       "    </tr>\n",
       "    <tr>\n",
       "      <th>2</th>\n",
       "      <td>100013</td>\n",
       "      <td>Cash loans</td>\n",
       "      <td>M</td>\n",
       "      <td>Y</td>\n",
       "      <td>Y</td>\n",
       "      <td>0</td>\n",
       "      <td>202500.0</td>\n",
       "      <td>663264.0</td>\n",
       "      <td>69777.0</td>\n",
       "      <td>630000.0</td>\n",
       "      <td>...</td>\n",
       "      <td>0</td>\n",
       "      <td>0</td>\n",
       "      <td>0</td>\n",
       "      <td>0</td>\n",
       "      <td>0.0</td>\n",
       "      <td>0.0</td>\n",
       "      <td>0.0</td>\n",
       "      <td>0.0</td>\n",
       "      <td>1.0</td>\n",
       "      <td>4.0</td>\n",
       "    </tr>\n",
       "    <tr>\n",
       "      <th>3</th>\n",
       "      <td>100028</td>\n",
       "      <td>Cash loans</td>\n",
       "      <td>F</td>\n",
       "      <td>N</td>\n",
       "      <td>Y</td>\n",
       "      <td>2</td>\n",
       "      <td>315000.0</td>\n",
       "      <td>1575000.0</td>\n",
       "      <td>49018.5</td>\n",
       "      <td>1575000.0</td>\n",
       "      <td>...</td>\n",
       "      <td>0</td>\n",
       "      <td>0</td>\n",
       "      <td>0</td>\n",
       "      <td>0</td>\n",
       "      <td>0.0</td>\n",
       "      <td>0.0</td>\n",
       "      <td>0.0</td>\n",
       "      <td>0.0</td>\n",
       "      <td>0.0</td>\n",
       "      <td>3.0</td>\n",
       "    </tr>\n",
       "    <tr>\n",
       "      <th>4</th>\n",
       "      <td>100038</td>\n",
       "      <td>Cash loans</td>\n",
       "      <td>M</td>\n",
       "      <td>Y</td>\n",
       "      <td>N</td>\n",
       "      <td>1</td>\n",
       "      <td>180000.0</td>\n",
       "      <td>625500.0</td>\n",
       "      <td>32067.0</td>\n",
       "      <td>625500.0</td>\n",
       "      <td>...</td>\n",
       "      <td>0</td>\n",
       "      <td>0</td>\n",
       "      <td>0</td>\n",
       "      <td>0</td>\n",
       "      <td>NaN</td>\n",
       "      <td>NaN</td>\n",
       "      <td>NaN</td>\n",
       "      <td>NaN</td>\n",
       "      <td>NaN</td>\n",
       "      <td>NaN</td>\n",
       "    </tr>\n",
       "    <tr>\n",
       "      <th>...</th>\n",
       "      <td>...</td>\n",
       "      <td>...</td>\n",
       "      <td>...</td>\n",
       "      <td>...</td>\n",
       "      <td>...</td>\n",
       "      <td>...</td>\n",
       "      <td>...</td>\n",
       "      <td>...</td>\n",
       "      <td>...</td>\n",
       "      <td>...</td>\n",
       "      <td>...</td>\n",
       "      <td>...</td>\n",
       "      <td>...</td>\n",
       "      <td>...</td>\n",
       "      <td>...</td>\n",
       "      <td>...</td>\n",
       "      <td>...</td>\n",
       "      <td>...</td>\n",
       "      <td>...</td>\n",
       "      <td>...</td>\n",
       "      <td>...</td>\n",
       "    </tr>\n",
       "    <tr>\n",
       "      <th>48739</th>\n",
       "      <td>456221</td>\n",
       "      <td>Cash loans</td>\n",
       "      <td>F</td>\n",
       "      <td>N</td>\n",
       "      <td>Y</td>\n",
       "      <td>0</td>\n",
       "      <td>121500.0</td>\n",
       "      <td>412560.0</td>\n",
       "      <td>17473.5</td>\n",
       "      <td>270000.0</td>\n",
       "      <td>...</td>\n",
       "      <td>0</td>\n",
       "      <td>0</td>\n",
       "      <td>0</td>\n",
       "      <td>0</td>\n",
       "      <td>0.0</td>\n",
       "      <td>0.0</td>\n",
       "      <td>0.0</td>\n",
       "      <td>0.0</td>\n",
       "      <td>0.0</td>\n",
       "      <td>1.0</td>\n",
       "    </tr>\n",
       "    <tr>\n",
       "      <th>48740</th>\n",
       "      <td>456222</td>\n",
       "      <td>Cash loans</td>\n",
       "      <td>F</td>\n",
       "      <td>N</td>\n",
       "      <td>N</td>\n",
       "      <td>2</td>\n",
       "      <td>157500.0</td>\n",
       "      <td>622413.0</td>\n",
       "      <td>31909.5</td>\n",
       "      <td>495000.0</td>\n",
       "      <td>...</td>\n",
       "      <td>0</td>\n",
       "      <td>0</td>\n",
       "      <td>0</td>\n",
       "      <td>0</td>\n",
       "      <td>NaN</td>\n",
       "      <td>NaN</td>\n",
       "      <td>NaN</td>\n",
       "      <td>NaN</td>\n",
       "      <td>NaN</td>\n",
       "      <td>NaN</td>\n",
       "    </tr>\n",
       "    <tr>\n",
       "      <th>48741</th>\n",
       "      <td>456223</td>\n",
       "      <td>Cash loans</td>\n",
       "      <td>F</td>\n",
       "      <td>Y</td>\n",
       "      <td>Y</td>\n",
       "      <td>1</td>\n",
       "      <td>202500.0</td>\n",
       "      <td>315000.0</td>\n",
       "      <td>33205.5</td>\n",
       "      <td>315000.0</td>\n",
       "      <td>...</td>\n",
       "      <td>0</td>\n",
       "      <td>0</td>\n",
       "      <td>0</td>\n",
       "      <td>0</td>\n",
       "      <td>0.0</td>\n",
       "      <td>0.0</td>\n",
       "      <td>0.0</td>\n",
       "      <td>0.0</td>\n",
       "      <td>3.0</td>\n",
       "      <td>1.0</td>\n",
       "    </tr>\n",
       "    <tr>\n",
       "      <th>48742</th>\n",
       "      <td>456224</td>\n",
       "      <td>Cash loans</td>\n",
       "      <td>M</td>\n",
       "      <td>N</td>\n",
       "      <td>N</td>\n",
       "      <td>0</td>\n",
       "      <td>225000.0</td>\n",
       "      <td>450000.0</td>\n",
       "      <td>25128.0</td>\n",
       "      <td>450000.0</td>\n",
       "      <td>...</td>\n",
       "      <td>0</td>\n",
       "      <td>0</td>\n",
       "      <td>0</td>\n",
       "      <td>0</td>\n",
       "      <td>0.0</td>\n",
       "      <td>0.0</td>\n",
       "      <td>0.0</td>\n",
       "      <td>0.0</td>\n",
       "      <td>0.0</td>\n",
       "      <td>2.0</td>\n",
       "    </tr>\n",
       "    <tr>\n",
       "      <th>48743</th>\n",
       "      <td>456250</td>\n",
       "      <td>Cash loans</td>\n",
       "      <td>F</td>\n",
       "      <td>Y</td>\n",
       "      <td>N</td>\n",
       "      <td>0</td>\n",
       "      <td>135000.0</td>\n",
       "      <td>312768.0</td>\n",
       "      <td>24709.5</td>\n",
       "      <td>270000.0</td>\n",
       "      <td>...</td>\n",
       "      <td>0</td>\n",
       "      <td>0</td>\n",
       "      <td>0</td>\n",
       "      <td>0</td>\n",
       "      <td>0.0</td>\n",
       "      <td>0.0</td>\n",
       "      <td>0.0</td>\n",
       "      <td>0.0</td>\n",
       "      <td>1.0</td>\n",
       "      <td>4.0</td>\n",
       "    </tr>\n",
       "  </tbody>\n",
       "</table>\n",
       "<p>48744 rows × 121 columns</p>\n",
       "</div>"
      ],
      "text/plain": [
       "       SK_ID_CURR NAME_CONTRACT_TYPE CODE_GENDER FLAG_OWN_CAR FLAG_OWN_REALTY  \\\n",
       "0          100001         Cash loans           F            N               Y   \n",
       "1          100005         Cash loans           M            N               Y   \n",
       "2          100013         Cash loans           M            Y               Y   \n",
       "3          100028         Cash loans           F            N               Y   \n",
       "4          100038         Cash loans           M            Y               N   \n",
       "...           ...                ...         ...          ...             ...   \n",
       "48739      456221         Cash loans           F            N               Y   \n",
       "48740      456222         Cash loans           F            N               N   \n",
       "48741      456223         Cash loans           F            Y               Y   \n",
       "48742      456224         Cash loans           M            N               N   \n",
       "48743      456250         Cash loans           F            Y               N   \n",
       "\n",
       "       CNT_CHILDREN  AMT_INCOME_TOTAL  AMT_CREDIT  AMT_ANNUITY  \\\n",
       "0                 0          135000.0    568800.0      20560.5   \n",
       "1                 0           99000.0    222768.0      17370.0   \n",
       "2                 0          202500.0    663264.0      69777.0   \n",
       "3                 2          315000.0   1575000.0      49018.5   \n",
       "4                 1          180000.0    625500.0      32067.0   \n",
       "...             ...               ...         ...          ...   \n",
       "48739             0          121500.0    412560.0      17473.5   \n",
       "48740             2          157500.0    622413.0      31909.5   \n",
       "48741             1          202500.0    315000.0      33205.5   \n",
       "48742             0          225000.0    450000.0      25128.0   \n",
       "48743             0          135000.0    312768.0      24709.5   \n",
       "\n",
       "       AMT_GOODS_PRICE  ... FLAG_DOCUMENT_18 FLAG_DOCUMENT_19  \\\n",
       "0             450000.0  ...                0                0   \n",
       "1             180000.0  ...                0                0   \n",
       "2             630000.0  ...                0                0   \n",
       "3            1575000.0  ...                0                0   \n",
       "4             625500.0  ...                0                0   \n",
       "...                ...  ...              ...              ...   \n",
       "48739         270000.0  ...                0                0   \n",
       "48740         495000.0  ...                0                0   \n",
       "48741         315000.0  ...                0                0   \n",
       "48742         450000.0  ...                0                0   \n",
       "48743         270000.0  ...                0                0   \n",
       "\n",
       "      FLAG_DOCUMENT_20 FLAG_DOCUMENT_21 AMT_REQ_CREDIT_BUREAU_HOUR  \\\n",
       "0                    0                0                        0.0   \n",
       "1                    0                0                        0.0   \n",
       "2                    0                0                        0.0   \n",
       "3                    0                0                        0.0   \n",
       "4                    0                0                        NaN   \n",
       "...                ...              ...                        ...   \n",
       "48739                0                0                        0.0   \n",
       "48740                0                0                        NaN   \n",
       "48741                0                0                        0.0   \n",
       "48742                0                0                        0.0   \n",
       "48743                0                0                        0.0   \n",
       "\n",
       "       AMT_REQ_CREDIT_BUREAU_DAY  AMT_REQ_CREDIT_BUREAU_WEEK  \\\n",
       "0                            0.0                         0.0   \n",
       "1                            0.0                         0.0   \n",
       "2                            0.0                         0.0   \n",
       "3                            0.0                         0.0   \n",
       "4                            NaN                         NaN   \n",
       "...                          ...                         ...   \n",
       "48739                        0.0                         0.0   \n",
       "48740                        NaN                         NaN   \n",
       "48741                        0.0                         0.0   \n",
       "48742                        0.0                         0.0   \n",
       "48743                        0.0                         0.0   \n",
       "\n",
       "       AMT_REQ_CREDIT_BUREAU_MON  AMT_REQ_CREDIT_BUREAU_QRT  \\\n",
       "0                            0.0                        0.0   \n",
       "1                            0.0                        0.0   \n",
       "2                            0.0                        1.0   \n",
       "3                            0.0                        0.0   \n",
       "4                            NaN                        NaN   \n",
       "...                          ...                        ...   \n",
       "48739                        0.0                        0.0   \n",
       "48740                        NaN                        NaN   \n",
       "48741                        0.0                        3.0   \n",
       "48742                        0.0                        0.0   \n",
       "48743                        0.0                        1.0   \n",
       "\n",
       "       AMT_REQ_CREDIT_BUREAU_YEAR  \n",
       "0                             0.0  \n",
       "1                             3.0  \n",
       "2                             4.0  \n",
       "3                             3.0  \n",
       "4                             NaN  \n",
       "...                           ...  \n",
       "48739                         1.0  \n",
       "48740                         NaN  \n",
       "48741                         1.0  \n",
       "48742                         2.0  \n",
       "48743                         4.0  \n",
       "\n",
       "[48744 rows x 121 columns]"
      ]
     },
     "execution_count": 4,
     "metadata": {},
     "output_type": "execute_result"
    }
   ],
   "source": [
    "application_test"
   ]
  },
  {
   "cell_type": "code",
   "execution_count": 5,
   "id": "c00248de",
   "metadata": {},
   "outputs": [
    {
     "ename": "FileNotFoundError",
     "evalue": "[Errno 2] No such file or directory: '/Users/admin/Desktop/liaison.png'",
     "output_type": "error",
     "traceback": [
      "\u001b[0;31m---------------------------------------------------------------------------\u001b[0m",
      "\u001b[0;31mFileNotFoundError\u001b[0m                         Traceback (most recent call last)",
      "\u001b[0;32m/var/folders/s2/hzy_2v4s2c783mp9rjk7tjzh0000gn/T/ipykernel_62995/4023785572.py\u001b[0m in \u001b[0;36m<module>\u001b[0;34m\u001b[0m\n\u001b[1;32m      1\u001b[0m \u001b[0;32mfrom\u001b[0m \u001b[0mIPython\u001b[0m\u001b[0;34m.\u001b[0m\u001b[0mdisplay\u001b[0m \u001b[0;32mimport\u001b[0m \u001b[0mdisplay\u001b[0m\u001b[0;34m,\u001b[0m \u001b[0mImage\u001b[0m\u001b[0;34m\u001b[0m\u001b[0;34m\u001b[0m\u001b[0m\n\u001b[1;32m      2\u001b[0m \u001b[0mpath\u001b[0m \u001b[0;34m=\u001b[0m \u001b[0;34m'/Users/admin/Desktop/liaison.png'\u001b[0m\u001b[0;34m\u001b[0m\u001b[0;34m\u001b[0m\u001b[0m\n\u001b[0;32m----> 3\u001b[0;31m \u001b[0mdisplay\u001b[0m\u001b[0;34m(\u001b[0m\u001b[0mImage\u001b[0m\u001b[0;34m(\u001b[0m\u001b[0mpath\u001b[0m\u001b[0;34m,\u001b[0m \u001b[0mfilename\u001b[0m\u001b[0;34m=\u001b[0m\u001b[0mpath\u001b[0m\u001b[0;34m)\u001b[0m\u001b[0;34m)\u001b[0m\u001b[0;34m\u001b[0m\u001b[0;34m\u001b[0m\u001b[0m\n\u001b[0m",
      "\u001b[0;32m/opt/anaconda3/lib/python3.9/site-packages/IPython/core/display.py\u001b[0m in \u001b[0;36m__init__\u001b[0;34m(self, data, url, filename, format, embed, width, height, retina, unconfined, metadata)\u001b[0m\n\u001b[1;32m   1229\u001b[0m         \u001b[0mself\u001b[0m\u001b[0;34m.\u001b[0m\u001b[0mretina\u001b[0m \u001b[0;34m=\u001b[0m \u001b[0mretina\u001b[0m\u001b[0;34m\u001b[0m\u001b[0;34m\u001b[0m\u001b[0m\n\u001b[1;32m   1230\u001b[0m         \u001b[0mself\u001b[0m\u001b[0;34m.\u001b[0m\u001b[0munconfined\u001b[0m \u001b[0;34m=\u001b[0m \u001b[0munconfined\u001b[0m\u001b[0;34m\u001b[0m\u001b[0;34m\u001b[0m\u001b[0m\n\u001b[0;32m-> 1231\u001b[0;31m         super(Image, self).__init__(data=data, url=url, filename=filename, \n\u001b[0m\u001b[1;32m   1232\u001b[0m                 metadata=metadata)\n\u001b[1;32m   1233\u001b[0m \u001b[0;34m\u001b[0m\u001b[0m\n",
      "\u001b[0;32m/opt/anaconda3/lib/python3.9/site-packages/IPython/core/display.py\u001b[0m in \u001b[0;36m__init__\u001b[0;34m(self, data, url, filename, metadata)\u001b[0m\n\u001b[1;32m    635\u001b[0m             \u001b[0mself\u001b[0m\u001b[0;34m.\u001b[0m\u001b[0mmetadata\u001b[0m \u001b[0;34m=\u001b[0m \u001b[0;34m{\u001b[0m\u001b[0;34m}\u001b[0m\u001b[0;34m\u001b[0m\u001b[0;34m\u001b[0m\u001b[0m\n\u001b[1;32m    636\u001b[0m \u001b[0;34m\u001b[0m\u001b[0m\n\u001b[0;32m--> 637\u001b[0;31m         \u001b[0mself\u001b[0m\u001b[0;34m.\u001b[0m\u001b[0mreload\u001b[0m\u001b[0;34m(\u001b[0m\u001b[0;34m)\u001b[0m\u001b[0;34m\u001b[0m\u001b[0;34m\u001b[0m\u001b[0m\n\u001b[0m\u001b[1;32m    638\u001b[0m         \u001b[0mself\u001b[0m\u001b[0;34m.\u001b[0m\u001b[0m_check_data\u001b[0m\u001b[0;34m(\u001b[0m\u001b[0;34m)\u001b[0m\u001b[0;34m\u001b[0m\u001b[0;34m\u001b[0m\u001b[0m\n\u001b[1;32m    639\u001b[0m \u001b[0;34m\u001b[0m\u001b[0m\n",
      "\u001b[0;32m/opt/anaconda3/lib/python3.9/site-packages/IPython/core/display.py\u001b[0m in \u001b[0;36mreload\u001b[0;34m(self)\u001b[0m\n\u001b[1;32m   1261\u001b[0m         \u001b[0;34m\"\"\"Reload the raw data from file or URL.\"\"\"\u001b[0m\u001b[0;34m\u001b[0m\u001b[0;34m\u001b[0m\u001b[0m\n\u001b[1;32m   1262\u001b[0m         \u001b[0;32mif\u001b[0m \u001b[0mself\u001b[0m\u001b[0;34m.\u001b[0m\u001b[0membed\u001b[0m\u001b[0;34m:\u001b[0m\u001b[0;34m\u001b[0m\u001b[0;34m\u001b[0m\u001b[0m\n\u001b[0;32m-> 1263\u001b[0;31m             \u001b[0msuper\u001b[0m\u001b[0;34m(\u001b[0m\u001b[0mImage\u001b[0m\u001b[0;34m,\u001b[0m\u001b[0mself\u001b[0m\u001b[0;34m)\u001b[0m\u001b[0;34m.\u001b[0m\u001b[0mreload\u001b[0m\u001b[0;34m(\u001b[0m\u001b[0;34m)\u001b[0m\u001b[0;34m\u001b[0m\u001b[0;34m\u001b[0m\u001b[0m\n\u001b[0m\u001b[1;32m   1264\u001b[0m             \u001b[0;32mif\u001b[0m \u001b[0mself\u001b[0m\u001b[0;34m.\u001b[0m\u001b[0mretina\u001b[0m\u001b[0;34m:\u001b[0m\u001b[0;34m\u001b[0m\u001b[0;34m\u001b[0m\u001b[0m\n\u001b[1;32m   1265\u001b[0m                 \u001b[0mself\u001b[0m\u001b[0;34m.\u001b[0m\u001b[0m_retina_shape\u001b[0m\u001b[0;34m(\u001b[0m\u001b[0;34m)\u001b[0m\u001b[0;34m\u001b[0m\u001b[0;34m\u001b[0m\u001b[0m\n",
      "\u001b[0;32m/opt/anaconda3/lib/python3.9/site-packages/IPython/core/display.py\u001b[0m in \u001b[0;36mreload\u001b[0;34m(self)\u001b[0m\n\u001b[1;32m    660\u001b[0m         \u001b[0;34m\"\"\"Reload the raw data from file or URL.\"\"\"\u001b[0m\u001b[0;34m\u001b[0m\u001b[0;34m\u001b[0m\u001b[0m\n\u001b[1;32m    661\u001b[0m         \u001b[0;32mif\u001b[0m \u001b[0mself\u001b[0m\u001b[0;34m.\u001b[0m\u001b[0mfilename\u001b[0m \u001b[0;32mis\u001b[0m \u001b[0;32mnot\u001b[0m \u001b[0;32mNone\u001b[0m\u001b[0;34m:\u001b[0m\u001b[0;34m\u001b[0m\u001b[0;34m\u001b[0m\u001b[0m\n\u001b[0;32m--> 662\u001b[0;31m             \u001b[0;32mwith\u001b[0m \u001b[0mopen\u001b[0m\u001b[0;34m(\u001b[0m\u001b[0mself\u001b[0m\u001b[0;34m.\u001b[0m\u001b[0mfilename\u001b[0m\u001b[0;34m,\u001b[0m \u001b[0mself\u001b[0m\u001b[0;34m.\u001b[0m\u001b[0m_read_flags\u001b[0m\u001b[0;34m)\u001b[0m \u001b[0;32mas\u001b[0m \u001b[0mf\u001b[0m\u001b[0;34m:\u001b[0m\u001b[0;34m\u001b[0m\u001b[0;34m\u001b[0m\u001b[0m\n\u001b[0m\u001b[1;32m    663\u001b[0m                 \u001b[0mself\u001b[0m\u001b[0;34m.\u001b[0m\u001b[0mdata\u001b[0m \u001b[0;34m=\u001b[0m \u001b[0mf\u001b[0m\u001b[0;34m.\u001b[0m\u001b[0mread\u001b[0m\u001b[0;34m(\u001b[0m\u001b[0;34m)\u001b[0m\u001b[0;34m\u001b[0m\u001b[0;34m\u001b[0m\u001b[0m\n\u001b[1;32m    664\u001b[0m         \u001b[0;32melif\u001b[0m \u001b[0mself\u001b[0m\u001b[0;34m.\u001b[0m\u001b[0murl\u001b[0m \u001b[0;32mis\u001b[0m \u001b[0;32mnot\u001b[0m \u001b[0;32mNone\u001b[0m\u001b[0;34m:\u001b[0m\u001b[0;34m\u001b[0m\u001b[0;34m\u001b[0m\u001b[0m\n",
      "\u001b[0;31mFileNotFoundError\u001b[0m: [Errno 2] No such file or directory: '/Users/admin/Desktop/liaison.png'"
     ]
    }
   ],
   "source": [
    "from IPython.display import display, Image\n",
    "path = '/Users/admin/Desktop/liaison.png'\n",
    "display(Image(path, filename=path))"
   ]
  },
  {
   "cell_type": "markdown",
   "id": "eb27a139",
   "metadata": {},
   "source": [
    "### Informations sur les donéees "
   ]
  },
  {
   "cell_type": "markdown",
   "id": "b4d6ccfc",
   "metadata": {},
   "source": [
    "#### structure de données "
   ]
  },
  {
   "cell_type": "code",
   "execution_count": 7,
   "id": "b12eeaf7",
   "metadata": {},
   "outputs": [],
   "source": [
    "dict_df = {'application_test':application_test, \n",
    "'application_train':application_train,\n",
    "'bureau_balance': bureau_balance,\n",
    "'credit_card_balance': credit_card_balance,\n",
    "'installments_payments':  installments_payments,\n",
    "'POS_CASH_balance': POS_CASH_balance, \n",
    "'previous_application': previous_application,\n",
    "'sample_submission': sample_submission}"
   ]
  },
  {
   "cell_type": "code",
   "execution_count": 8,
   "id": "15d7693b",
   "metadata": {},
   "outputs": [],
   "source": [
    "df_info = pd.DataFrame({})  \n",
    "list_col_with_NaN = []  \n",
    "for cle, value in dict_df.items():\n",
    "    df_info.loc[cle, 'df'] = cle\n",
    "    df_info.loc[cle, 'nombre de lignes'] = (value.shape[0])\n",
    "    df_info.loc[cle,'nombre columns'] = value.shape[1]  \n",
    "    df_info.loc[cle,'% Columns Name'] =   ' ,'.join(list(value.columns))\n",
    "    df_info.loc[cle, 'duplicated'] = value.duplicated().sum()\n",
    "    df_info.loc[cle,'% NaN'] = value.isna().sum(axis = 0).sum()/len(value)/len(value.columns)*100\n",
    "    for col in value.columns:\n",
    "        if value[col].isna().sum()!=0:\n",
    "            list_col_with_NaN.append(col)\n",
    "            df_info.loc[cle,'Name Columns with NaN'] =' ,'.join((list(list_col_with_NaN)))\n",
    "            \n",
    "    list_col_with_NaN = []\n",
    "df_info = df_info.reset_index().drop('index', axis = 1)"
   ]
  },
  {
   "cell_type": "code",
   "execution_count": 9,
   "id": "885852cf",
   "metadata": {},
   "outputs": [
    {
     "data": {
      "text/html": [
       "<div>\n",
       "<style scoped>\n",
       "    .dataframe tbody tr th:only-of-type {\n",
       "        vertical-align: middle;\n",
       "    }\n",
       "\n",
       "    .dataframe tbody tr th {\n",
       "        vertical-align: top;\n",
       "    }\n",
       "\n",
       "    .dataframe thead th {\n",
       "        text-align: right;\n",
       "    }\n",
       "</style>\n",
       "<table border=\"1\" class=\"dataframe\">\n",
       "  <thead>\n",
       "    <tr style=\"text-align: right;\">\n",
       "      <th></th>\n",
       "      <th>df</th>\n",
       "      <th>nombre de lignes</th>\n",
       "      <th>nombre columns</th>\n",
       "      <th>% Columns Name</th>\n",
       "      <th>duplicated</th>\n",
       "      <th>% NaN</th>\n",
       "      <th>Name Columns with NaN</th>\n",
       "    </tr>\n",
       "  </thead>\n",
       "  <tbody>\n",
       "    <tr>\n",
       "      <th>0</th>\n",
       "      <td>application_test</td>\n",
       "      <td>48744.0</td>\n",
       "      <td>121.0</td>\n",
       "      <td>SK_ID_CURR ,NAME_CONTRACT_TYPE ,CODE_GENDER ,F...</td>\n",
       "      <td>0.0</td>\n",
       "      <td>23.811687</td>\n",
       "      <td>AMT_ANNUITY ,NAME_TYPE_SUITE ,OWN_CAR_AGE ,OCC...</td>\n",
       "    </tr>\n",
       "    <tr>\n",
       "      <th>1</th>\n",
       "      <td>application_train</td>\n",
       "      <td>307511.0</td>\n",
       "      <td>122.0</td>\n",
       "      <td>SK_ID_CURR ,TARGET ,NAME_CONTRACT_TYPE ,CODE_G...</td>\n",
       "      <td>0.0</td>\n",
       "      <td>24.395942</td>\n",
       "      <td>AMT_ANNUITY ,AMT_GOODS_PRICE ,NAME_TYPE_SUITE ...</td>\n",
       "    </tr>\n",
       "    <tr>\n",
       "      <th>2</th>\n",
       "      <td>bureau_balance</td>\n",
       "      <td>27299925.0</td>\n",
       "      <td>3.0</td>\n",
       "      <td>SK_ID_BUREAU ,MONTHS_BALANCE ,STATUS</td>\n",
       "      <td>0.0</td>\n",
       "      <td>0.000000</td>\n",
       "      <td>NaN</td>\n",
       "    </tr>\n",
       "    <tr>\n",
       "      <th>3</th>\n",
       "      <td>credit_card_balance</td>\n",
       "      <td>3840312.0</td>\n",
       "      <td>23.0</td>\n",
       "      <td>SK_ID_PREV ,SK_ID_CURR ,MONTHS_BALANCE ,AMT_BA...</td>\n",
       "      <td>0.0</td>\n",
       "      <td>6.654074</td>\n",
       "      <td>AMT_DRAWINGS_ATM_CURRENT ,AMT_DRAWINGS_OTHER_C...</td>\n",
       "    </tr>\n",
       "    <tr>\n",
       "      <th>4</th>\n",
       "      <td>installments_payments</td>\n",
       "      <td>13605401.0</td>\n",
       "      <td>8.0</td>\n",
       "      <td>SK_ID_PREV ,SK_ID_CURR ,NUM_INSTALMENT_VERSION...</td>\n",
       "      <td>0.0</td>\n",
       "      <td>0.005338</td>\n",
       "      <td>DAYS_ENTRY_PAYMENT ,AMT_PAYMENT</td>\n",
       "    </tr>\n",
       "    <tr>\n",
       "      <th>5</th>\n",
       "      <td>POS_CASH_balance</td>\n",
       "      <td>10001358.0</td>\n",
       "      <td>8.0</td>\n",
       "      <td>SK_ID_PREV ,SK_ID_CURR ,MONTHS_BALANCE ,CNT_IN...</td>\n",
       "      <td>0.0</td>\n",
       "      <td>0.065189</td>\n",
       "      <td>CNT_INSTALMENT ,CNT_INSTALMENT_FUTURE</td>\n",
       "    </tr>\n",
       "    <tr>\n",
       "      <th>6</th>\n",
       "      <td>previous_application</td>\n",
       "      <td>1670214.0</td>\n",
       "      <td>37.0</td>\n",
       "      <td>SK_ID_PREV ,SK_ID_CURR ,NAME_CONTRACT_TYPE ,AM...</td>\n",
       "      <td>0.0</td>\n",
       "      <td>17.976877</td>\n",
       "      <td>AMT_ANNUITY ,AMT_CREDIT ,AMT_DOWN_PAYMENT ,AMT...</td>\n",
       "    </tr>\n",
       "    <tr>\n",
       "      <th>7</th>\n",
       "      <td>sample_submission</td>\n",
       "      <td>48744.0</td>\n",
       "      <td>2.0</td>\n",
       "      <td>SK_ID_CURR ,TARGET</td>\n",
       "      <td>0.0</td>\n",
       "      <td>0.000000</td>\n",
       "      <td>NaN</td>\n",
       "    </tr>\n",
       "  </tbody>\n",
       "</table>\n",
       "</div>"
      ],
      "text/plain": [
       "                      df  nombre de lignes  nombre columns  \\\n",
       "0       application_test           48744.0           121.0   \n",
       "1      application_train          307511.0           122.0   \n",
       "2         bureau_balance        27299925.0             3.0   \n",
       "3    credit_card_balance         3840312.0            23.0   \n",
       "4  installments_payments        13605401.0             8.0   \n",
       "5       POS_CASH_balance        10001358.0             8.0   \n",
       "6   previous_application         1670214.0            37.0   \n",
       "7      sample_submission           48744.0             2.0   \n",
       "\n",
       "                                      % Columns Name  duplicated      % NaN  \\\n",
       "0  SK_ID_CURR ,NAME_CONTRACT_TYPE ,CODE_GENDER ,F...         0.0  23.811687   \n",
       "1  SK_ID_CURR ,TARGET ,NAME_CONTRACT_TYPE ,CODE_G...         0.0  24.395942   \n",
       "2               SK_ID_BUREAU ,MONTHS_BALANCE ,STATUS         0.0   0.000000   \n",
       "3  SK_ID_PREV ,SK_ID_CURR ,MONTHS_BALANCE ,AMT_BA...         0.0   6.654074   \n",
       "4  SK_ID_PREV ,SK_ID_CURR ,NUM_INSTALMENT_VERSION...         0.0   0.005338   \n",
       "5  SK_ID_PREV ,SK_ID_CURR ,MONTHS_BALANCE ,CNT_IN...         0.0   0.065189   \n",
       "6  SK_ID_PREV ,SK_ID_CURR ,NAME_CONTRACT_TYPE ,AM...         0.0  17.976877   \n",
       "7                                 SK_ID_CURR ,TARGET         0.0   0.000000   \n",
       "\n",
       "                               Name Columns with NaN  \n",
       "0  AMT_ANNUITY ,NAME_TYPE_SUITE ,OWN_CAR_AGE ,OCC...  \n",
       "1  AMT_ANNUITY ,AMT_GOODS_PRICE ,NAME_TYPE_SUITE ...  \n",
       "2                                                NaN  \n",
       "3  AMT_DRAWINGS_ATM_CURRENT ,AMT_DRAWINGS_OTHER_C...  \n",
       "4                    DAYS_ENTRY_PAYMENT ,AMT_PAYMENT  \n",
       "5              CNT_INSTALMENT ,CNT_INSTALMENT_FUTURE  \n",
       "6  AMT_ANNUITY ,AMT_CREDIT ,AMT_DOWN_PAYMENT ,AMT...  \n",
       "7                                                NaN  "
      ]
     },
     "metadata": {},
     "output_type": "display_data"
    }
   ],
   "source": [
    "display(df_info)"
   ]
  },
  {
   "cell_type": "markdown",
   "id": "d0f60a7a",
   "metadata": {},
   "source": [
    "### Informations sur les données manquantes "
   ]
  },
  {
   "cell_type": "code",
   "execution_count": 10,
   "id": "19d0bd5e",
   "metadata": {},
   "outputs": [],
   "source": [
    "def missing_data(data):\n",
    "    total = data.isnull().sum().sort_values(ascending = False)\n",
    "    percent = (data.isnull().sum()/data.isnull().count()*100).sort_values(ascending = False)\n",
    "    return pd.concat([total, percent], axis=1, keys=['Total', 'Percent'])"
   ]
  },
  {
   "cell_type": "code",
   "execution_count": 11,
   "id": "e985752e",
   "metadata": {
    "scrolled": false
   },
   "outputs": [
    {
     "name": "stdout",
     "output_type": "stream",
     "text": [
      "application_test\n"
     ]
    },
    {
     "data": {
      "text/html": [
       "<div>\n",
       "<style scoped>\n",
       "    .dataframe tbody tr th:only-of-type {\n",
       "        vertical-align: middle;\n",
       "    }\n",
       "\n",
       "    .dataframe tbody tr th {\n",
       "        vertical-align: top;\n",
       "    }\n",
       "\n",
       "    .dataframe thead th {\n",
       "        text-align: right;\n",
       "    }\n",
       "</style>\n",
       "<table border=\"1\" class=\"dataframe\">\n",
       "  <thead>\n",
       "    <tr style=\"text-align: right;\">\n",
       "      <th></th>\n",
       "      <th>Total</th>\n",
       "      <th>Percent</th>\n",
       "    </tr>\n",
       "  </thead>\n",
       "  <tbody>\n",
       "    <tr>\n",
       "      <th>COMMONAREA_AVG</th>\n",
       "      <td>33495</td>\n",
       "      <td>68.716150</td>\n",
       "    </tr>\n",
       "    <tr>\n",
       "      <th>COMMONAREA_MODE</th>\n",
       "      <td>33495</td>\n",
       "      <td>68.716150</td>\n",
       "    </tr>\n",
       "    <tr>\n",
       "      <th>COMMONAREA_MEDI</th>\n",
       "      <td>33495</td>\n",
       "      <td>68.716150</td>\n",
       "    </tr>\n",
       "    <tr>\n",
       "      <th>NONLIVINGAPARTMENTS_AVG</th>\n",
       "      <td>33347</td>\n",
       "      <td>68.412523</td>\n",
       "    </tr>\n",
       "    <tr>\n",
       "      <th>NONLIVINGAPARTMENTS_MODE</th>\n",
       "      <td>33347</td>\n",
       "      <td>68.412523</td>\n",
       "    </tr>\n",
       "    <tr>\n",
       "      <th>NONLIVINGAPARTMENTS_MEDI</th>\n",
       "      <td>33347</td>\n",
       "      <td>68.412523</td>\n",
       "    </tr>\n",
       "    <tr>\n",
       "      <th>FONDKAPREMONT_MODE</th>\n",
       "      <td>32797</td>\n",
       "      <td>67.284179</td>\n",
       "    </tr>\n",
       "    <tr>\n",
       "      <th>LIVINGAPARTMENTS_AVG</th>\n",
       "      <td>32780</td>\n",
       "      <td>67.249302</td>\n",
       "    </tr>\n",
       "    <tr>\n",
       "      <th>LIVINGAPARTMENTS_MODE</th>\n",
       "      <td>32780</td>\n",
       "      <td>67.249302</td>\n",
       "    </tr>\n",
       "    <tr>\n",
       "      <th>LIVINGAPARTMENTS_MEDI</th>\n",
       "      <td>32780</td>\n",
       "      <td>67.249302</td>\n",
       "    </tr>\n",
       "  </tbody>\n",
       "</table>\n",
       "</div>"
      ],
      "text/plain": [
       "                          Total    Percent\n",
       "COMMONAREA_AVG            33495  68.716150\n",
       "COMMONAREA_MODE           33495  68.716150\n",
       "COMMONAREA_MEDI           33495  68.716150\n",
       "NONLIVINGAPARTMENTS_AVG   33347  68.412523\n",
       "NONLIVINGAPARTMENTS_MODE  33347  68.412523\n",
       "NONLIVINGAPARTMENTS_MEDI  33347  68.412523\n",
       "FONDKAPREMONT_MODE        32797  67.284179\n",
       "LIVINGAPARTMENTS_AVG      32780  67.249302\n",
       "LIVINGAPARTMENTS_MODE     32780  67.249302\n",
       "LIVINGAPARTMENTS_MEDI     32780  67.249302"
      ]
     },
     "metadata": {},
     "output_type": "display_data"
    },
    {
     "name": "stdout",
     "output_type": "stream",
     "text": [
      "application_train\n"
     ]
    },
    {
     "data": {
      "text/html": [
       "<div>\n",
       "<style scoped>\n",
       "    .dataframe tbody tr th:only-of-type {\n",
       "        vertical-align: middle;\n",
       "    }\n",
       "\n",
       "    .dataframe tbody tr th {\n",
       "        vertical-align: top;\n",
       "    }\n",
       "\n",
       "    .dataframe thead th {\n",
       "        text-align: right;\n",
       "    }\n",
       "</style>\n",
       "<table border=\"1\" class=\"dataframe\">\n",
       "  <thead>\n",
       "    <tr style=\"text-align: right;\">\n",
       "      <th></th>\n",
       "      <th>Total</th>\n",
       "      <th>Percent</th>\n",
       "    </tr>\n",
       "  </thead>\n",
       "  <tbody>\n",
       "    <tr>\n",
       "      <th>COMMONAREA_MEDI</th>\n",
       "      <td>214865</td>\n",
       "      <td>69.872297</td>\n",
       "    </tr>\n",
       "    <tr>\n",
       "      <th>COMMONAREA_AVG</th>\n",
       "      <td>214865</td>\n",
       "      <td>69.872297</td>\n",
       "    </tr>\n",
       "    <tr>\n",
       "      <th>COMMONAREA_MODE</th>\n",
       "      <td>214865</td>\n",
       "      <td>69.872297</td>\n",
       "    </tr>\n",
       "    <tr>\n",
       "      <th>NONLIVINGAPARTMENTS_MODE</th>\n",
       "      <td>213514</td>\n",
       "      <td>69.432963</td>\n",
       "    </tr>\n",
       "    <tr>\n",
       "      <th>NONLIVINGAPARTMENTS_AVG</th>\n",
       "      <td>213514</td>\n",
       "      <td>69.432963</td>\n",
       "    </tr>\n",
       "    <tr>\n",
       "      <th>NONLIVINGAPARTMENTS_MEDI</th>\n",
       "      <td>213514</td>\n",
       "      <td>69.432963</td>\n",
       "    </tr>\n",
       "    <tr>\n",
       "      <th>FONDKAPREMONT_MODE</th>\n",
       "      <td>210295</td>\n",
       "      <td>68.386172</td>\n",
       "    </tr>\n",
       "    <tr>\n",
       "      <th>LIVINGAPARTMENTS_MODE</th>\n",
       "      <td>210199</td>\n",
       "      <td>68.354953</td>\n",
       "    </tr>\n",
       "    <tr>\n",
       "      <th>LIVINGAPARTMENTS_AVG</th>\n",
       "      <td>210199</td>\n",
       "      <td>68.354953</td>\n",
       "    </tr>\n",
       "    <tr>\n",
       "      <th>LIVINGAPARTMENTS_MEDI</th>\n",
       "      <td>210199</td>\n",
       "      <td>68.354953</td>\n",
       "    </tr>\n",
       "  </tbody>\n",
       "</table>\n",
       "</div>"
      ],
      "text/plain": [
       "                           Total    Percent\n",
       "COMMONAREA_MEDI           214865  69.872297\n",
       "COMMONAREA_AVG            214865  69.872297\n",
       "COMMONAREA_MODE           214865  69.872297\n",
       "NONLIVINGAPARTMENTS_MODE  213514  69.432963\n",
       "NONLIVINGAPARTMENTS_AVG   213514  69.432963\n",
       "NONLIVINGAPARTMENTS_MEDI  213514  69.432963\n",
       "FONDKAPREMONT_MODE        210295  68.386172\n",
       "LIVINGAPARTMENTS_MODE     210199  68.354953\n",
       "LIVINGAPARTMENTS_AVG      210199  68.354953\n",
       "LIVINGAPARTMENTS_MEDI     210199  68.354953"
      ]
     },
     "metadata": {},
     "output_type": "display_data"
    },
    {
     "name": "stdout",
     "output_type": "stream",
     "text": [
      "bureau_balance\n"
     ]
    },
    {
     "data": {
      "text/html": [
       "<div>\n",
       "<style scoped>\n",
       "    .dataframe tbody tr th:only-of-type {\n",
       "        vertical-align: middle;\n",
       "    }\n",
       "\n",
       "    .dataframe tbody tr th {\n",
       "        vertical-align: top;\n",
       "    }\n",
       "\n",
       "    .dataframe thead th {\n",
       "        text-align: right;\n",
       "    }\n",
       "</style>\n",
       "<table border=\"1\" class=\"dataframe\">\n",
       "  <thead>\n",
       "    <tr style=\"text-align: right;\">\n",
       "      <th></th>\n",
       "      <th>Total</th>\n",
       "      <th>Percent</th>\n",
       "    </tr>\n",
       "  </thead>\n",
       "  <tbody>\n",
       "    <tr>\n",
       "      <th>SK_ID_BUREAU</th>\n",
       "      <td>0</td>\n",
       "      <td>0.0</td>\n",
       "    </tr>\n",
       "    <tr>\n",
       "      <th>MONTHS_BALANCE</th>\n",
       "      <td>0</td>\n",
       "      <td>0.0</td>\n",
       "    </tr>\n",
       "    <tr>\n",
       "      <th>STATUS</th>\n",
       "      <td>0</td>\n",
       "      <td>0.0</td>\n",
       "    </tr>\n",
       "  </tbody>\n",
       "</table>\n",
       "</div>"
      ],
      "text/plain": [
       "                Total  Percent\n",
       "SK_ID_BUREAU        0      0.0\n",
       "MONTHS_BALANCE      0      0.0\n",
       "STATUS              0      0.0"
      ]
     },
     "metadata": {},
     "output_type": "display_data"
    },
    {
     "name": "stdout",
     "output_type": "stream",
     "text": [
      "credit_card_balance\n"
     ]
    },
    {
     "data": {
      "text/html": [
       "<div>\n",
       "<style scoped>\n",
       "    .dataframe tbody tr th:only-of-type {\n",
       "        vertical-align: middle;\n",
       "    }\n",
       "\n",
       "    .dataframe tbody tr th {\n",
       "        vertical-align: top;\n",
       "    }\n",
       "\n",
       "    .dataframe thead th {\n",
       "        text-align: right;\n",
       "    }\n",
       "</style>\n",
       "<table border=\"1\" class=\"dataframe\">\n",
       "  <thead>\n",
       "    <tr style=\"text-align: right;\">\n",
       "      <th></th>\n",
       "      <th>Total</th>\n",
       "      <th>Percent</th>\n",
       "    </tr>\n",
       "  </thead>\n",
       "  <tbody>\n",
       "    <tr>\n",
       "      <th>AMT_PAYMENT_CURRENT</th>\n",
       "      <td>767988</td>\n",
       "      <td>19.998063</td>\n",
       "    </tr>\n",
       "    <tr>\n",
       "      <th>AMT_DRAWINGS_ATM_CURRENT</th>\n",
       "      <td>749816</td>\n",
       "      <td>19.524872</td>\n",
       "    </tr>\n",
       "    <tr>\n",
       "      <th>CNT_DRAWINGS_POS_CURRENT</th>\n",
       "      <td>749816</td>\n",
       "      <td>19.524872</td>\n",
       "    </tr>\n",
       "    <tr>\n",
       "      <th>AMT_DRAWINGS_OTHER_CURRENT</th>\n",
       "      <td>749816</td>\n",
       "      <td>19.524872</td>\n",
       "    </tr>\n",
       "    <tr>\n",
       "      <th>AMT_DRAWINGS_POS_CURRENT</th>\n",
       "      <td>749816</td>\n",
       "      <td>19.524872</td>\n",
       "    </tr>\n",
       "    <tr>\n",
       "      <th>CNT_DRAWINGS_OTHER_CURRENT</th>\n",
       "      <td>749816</td>\n",
       "      <td>19.524872</td>\n",
       "    </tr>\n",
       "    <tr>\n",
       "      <th>CNT_DRAWINGS_ATM_CURRENT</th>\n",
       "      <td>749816</td>\n",
       "      <td>19.524872</td>\n",
       "    </tr>\n",
       "    <tr>\n",
       "      <th>CNT_INSTALMENT_MATURE_CUM</th>\n",
       "      <td>305236</td>\n",
       "      <td>7.948208</td>\n",
       "    </tr>\n",
       "    <tr>\n",
       "      <th>AMT_INST_MIN_REGULARITY</th>\n",
       "      <td>305236</td>\n",
       "      <td>7.948208</td>\n",
       "    </tr>\n",
       "    <tr>\n",
       "      <th>SK_ID_PREV</th>\n",
       "      <td>0</td>\n",
       "      <td>0.000000</td>\n",
       "    </tr>\n",
       "  </tbody>\n",
       "</table>\n",
       "</div>"
      ],
      "text/plain": [
       "                             Total    Percent\n",
       "AMT_PAYMENT_CURRENT         767988  19.998063\n",
       "AMT_DRAWINGS_ATM_CURRENT    749816  19.524872\n",
       "CNT_DRAWINGS_POS_CURRENT    749816  19.524872\n",
       "AMT_DRAWINGS_OTHER_CURRENT  749816  19.524872\n",
       "AMT_DRAWINGS_POS_CURRENT    749816  19.524872\n",
       "CNT_DRAWINGS_OTHER_CURRENT  749816  19.524872\n",
       "CNT_DRAWINGS_ATM_CURRENT    749816  19.524872\n",
       "CNT_INSTALMENT_MATURE_CUM   305236   7.948208\n",
       "AMT_INST_MIN_REGULARITY     305236   7.948208\n",
       "SK_ID_PREV                       0   0.000000"
      ]
     },
     "metadata": {},
     "output_type": "display_data"
    },
    {
     "name": "stdout",
     "output_type": "stream",
     "text": [
      "installments_payments\n"
     ]
    },
    {
     "data": {
      "text/html": [
       "<div>\n",
       "<style scoped>\n",
       "    .dataframe tbody tr th:only-of-type {\n",
       "        vertical-align: middle;\n",
       "    }\n",
       "\n",
       "    .dataframe tbody tr th {\n",
       "        vertical-align: top;\n",
       "    }\n",
       "\n",
       "    .dataframe thead th {\n",
       "        text-align: right;\n",
       "    }\n",
       "</style>\n",
       "<table border=\"1\" class=\"dataframe\">\n",
       "  <thead>\n",
       "    <tr style=\"text-align: right;\">\n",
       "      <th></th>\n",
       "      <th>Total</th>\n",
       "      <th>Percent</th>\n",
       "    </tr>\n",
       "  </thead>\n",
       "  <tbody>\n",
       "    <tr>\n",
       "      <th>DAYS_ENTRY_PAYMENT</th>\n",
       "      <td>2905</td>\n",
       "      <td>0.021352</td>\n",
       "    </tr>\n",
       "    <tr>\n",
       "      <th>AMT_PAYMENT</th>\n",
       "      <td>2905</td>\n",
       "      <td>0.021352</td>\n",
       "    </tr>\n",
       "    <tr>\n",
       "      <th>SK_ID_PREV</th>\n",
       "      <td>0</td>\n",
       "      <td>0.000000</td>\n",
       "    </tr>\n",
       "    <tr>\n",
       "      <th>SK_ID_CURR</th>\n",
       "      <td>0</td>\n",
       "      <td>0.000000</td>\n",
       "    </tr>\n",
       "    <tr>\n",
       "      <th>NUM_INSTALMENT_VERSION</th>\n",
       "      <td>0</td>\n",
       "      <td>0.000000</td>\n",
       "    </tr>\n",
       "    <tr>\n",
       "      <th>NUM_INSTALMENT_NUMBER</th>\n",
       "      <td>0</td>\n",
       "      <td>0.000000</td>\n",
       "    </tr>\n",
       "    <tr>\n",
       "      <th>DAYS_INSTALMENT</th>\n",
       "      <td>0</td>\n",
       "      <td>0.000000</td>\n",
       "    </tr>\n",
       "    <tr>\n",
       "      <th>AMT_INSTALMENT</th>\n",
       "      <td>0</td>\n",
       "      <td>0.000000</td>\n",
       "    </tr>\n",
       "  </tbody>\n",
       "</table>\n",
       "</div>"
      ],
      "text/plain": [
       "                        Total   Percent\n",
       "DAYS_ENTRY_PAYMENT       2905  0.021352\n",
       "AMT_PAYMENT              2905  0.021352\n",
       "SK_ID_PREV                  0  0.000000\n",
       "SK_ID_CURR                  0  0.000000\n",
       "NUM_INSTALMENT_VERSION      0  0.000000\n",
       "NUM_INSTALMENT_NUMBER       0  0.000000\n",
       "DAYS_INSTALMENT             0  0.000000\n",
       "AMT_INSTALMENT              0  0.000000"
      ]
     },
     "metadata": {},
     "output_type": "display_data"
    },
    {
     "name": "stdout",
     "output_type": "stream",
     "text": [
      "POS_CASH_balance\n"
     ]
    },
    {
     "data": {
      "text/html": [
       "<div>\n",
       "<style scoped>\n",
       "    .dataframe tbody tr th:only-of-type {\n",
       "        vertical-align: middle;\n",
       "    }\n",
       "\n",
       "    .dataframe tbody tr th {\n",
       "        vertical-align: top;\n",
       "    }\n",
       "\n",
       "    .dataframe thead th {\n",
       "        text-align: right;\n",
       "    }\n",
       "</style>\n",
       "<table border=\"1\" class=\"dataframe\">\n",
       "  <thead>\n",
       "    <tr style=\"text-align: right;\">\n",
       "      <th></th>\n",
       "      <th>Total</th>\n",
       "      <th>Percent</th>\n",
       "    </tr>\n",
       "  </thead>\n",
       "  <tbody>\n",
       "    <tr>\n",
       "      <th>CNT_INSTALMENT_FUTURE</th>\n",
       "      <td>26087</td>\n",
       "      <td>0.260835</td>\n",
       "    </tr>\n",
       "    <tr>\n",
       "      <th>CNT_INSTALMENT</th>\n",
       "      <td>26071</td>\n",
       "      <td>0.260675</td>\n",
       "    </tr>\n",
       "    <tr>\n",
       "      <th>SK_ID_PREV</th>\n",
       "      <td>0</td>\n",
       "      <td>0.000000</td>\n",
       "    </tr>\n",
       "    <tr>\n",
       "      <th>SK_ID_CURR</th>\n",
       "      <td>0</td>\n",
       "      <td>0.000000</td>\n",
       "    </tr>\n",
       "    <tr>\n",
       "      <th>MONTHS_BALANCE</th>\n",
       "      <td>0</td>\n",
       "      <td>0.000000</td>\n",
       "    </tr>\n",
       "    <tr>\n",
       "      <th>NAME_CONTRACT_STATUS</th>\n",
       "      <td>0</td>\n",
       "      <td>0.000000</td>\n",
       "    </tr>\n",
       "    <tr>\n",
       "      <th>SK_DPD</th>\n",
       "      <td>0</td>\n",
       "      <td>0.000000</td>\n",
       "    </tr>\n",
       "    <tr>\n",
       "      <th>SK_DPD_DEF</th>\n",
       "      <td>0</td>\n",
       "      <td>0.000000</td>\n",
       "    </tr>\n",
       "  </tbody>\n",
       "</table>\n",
       "</div>"
      ],
      "text/plain": [
       "                       Total   Percent\n",
       "CNT_INSTALMENT_FUTURE  26087  0.260835\n",
       "CNT_INSTALMENT         26071  0.260675\n",
       "SK_ID_PREV                 0  0.000000\n",
       "SK_ID_CURR                 0  0.000000\n",
       "MONTHS_BALANCE             0  0.000000\n",
       "NAME_CONTRACT_STATUS       0  0.000000\n",
       "SK_DPD                     0  0.000000\n",
       "SK_DPD_DEF                 0  0.000000"
      ]
     },
     "metadata": {},
     "output_type": "display_data"
    },
    {
     "name": "stdout",
     "output_type": "stream",
     "text": [
      "previous_application\n"
     ]
    },
    {
     "data": {
      "text/html": [
       "<div>\n",
       "<style scoped>\n",
       "    .dataframe tbody tr th:only-of-type {\n",
       "        vertical-align: middle;\n",
       "    }\n",
       "\n",
       "    .dataframe tbody tr th {\n",
       "        vertical-align: top;\n",
       "    }\n",
       "\n",
       "    .dataframe thead th {\n",
       "        text-align: right;\n",
       "    }\n",
       "</style>\n",
       "<table border=\"1\" class=\"dataframe\">\n",
       "  <thead>\n",
       "    <tr style=\"text-align: right;\">\n",
       "      <th></th>\n",
       "      <th>Total</th>\n",
       "      <th>Percent</th>\n",
       "    </tr>\n",
       "  </thead>\n",
       "  <tbody>\n",
       "    <tr>\n",
       "      <th>RATE_INTEREST_PRIVILEGED</th>\n",
       "      <td>1664263</td>\n",
       "      <td>99.643698</td>\n",
       "    </tr>\n",
       "    <tr>\n",
       "      <th>RATE_INTEREST_PRIMARY</th>\n",
       "      <td>1664263</td>\n",
       "      <td>99.643698</td>\n",
       "    </tr>\n",
       "    <tr>\n",
       "      <th>AMT_DOWN_PAYMENT</th>\n",
       "      <td>895844</td>\n",
       "      <td>53.636480</td>\n",
       "    </tr>\n",
       "    <tr>\n",
       "      <th>RATE_DOWN_PAYMENT</th>\n",
       "      <td>895844</td>\n",
       "      <td>53.636480</td>\n",
       "    </tr>\n",
       "    <tr>\n",
       "      <th>NAME_TYPE_SUITE</th>\n",
       "      <td>820405</td>\n",
       "      <td>49.119754</td>\n",
       "    </tr>\n",
       "    <tr>\n",
       "      <th>NFLAG_INSURED_ON_APPROVAL</th>\n",
       "      <td>673065</td>\n",
       "      <td>40.298129</td>\n",
       "    </tr>\n",
       "    <tr>\n",
       "      <th>DAYS_TERMINATION</th>\n",
       "      <td>673065</td>\n",
       "      <td>40.298129</td>\n",
       "    </tr>\n",
       "    <tr>\n",
       "      <th>DAYS_LAST_DUE</th>\n",
       "      <td>673065</td>\n",
       "      <td>40.298129</td>\n",
       "    </tr>\n",
       "    <tr>\n",
       "      <th>DAYS_LAST_DUE_1ST_VERSION</th>\n",
       "      <td>673065</td>\n",
       "      <td>40.298129</td>\n",
       "    </tr>\n",
       "    <tr>\n",
       "      <th>DAYS_FIRST_DUE</th>\n",
       "      <td>673065</td>\n",
       "      <td>40.298129</td>\n",
       "    </tr>\n",
       "  </tbody>\n",
       "</table>\n",
       "</div>"
      ],
      "text/plain": [
       "                             Total    Percent\n",
       "RATE_INTEREST_PRIVILEGED   1664263  99.643698\n",
       "RATE_INTEREST_PRIMARY      1664263  99.643698\n",
       "AMT_DOWN_PAYMENT            895844  53.636480\n",
       "RATE_DOWN_PAYMENT           895844  53.636480\n",
       "NAME_TYPE_SUITE             820405  49.119754\n",
       "NFLAG_INSURED_ON_APPROVAL   673065  40.298129\n",
       "DAYS_TERMINATION            673065  40.298129\n",
       "DAYS_LAST_DUE               673065  40.298129\n",
       "DAYS_LAST_DUE_1ST_VERSION   673065  40.298129\n",
       "DAYS_FIRST_DUE              673065  40.298129"
      ]
     },
     "metadata": {},
     "output_type": "display_data"
    },
    {
     "name": "stdout",
     "output_type": "stream",
     "text": [
      "sample_submission\n"
     ]
    },
    {
     "data": {
      "text/html": [
       "<div>\n",
       "<style scoped>\n",
       "    .dataframe tbody tr th:only-of-type {\n",
       "        vertical-align: middle;\n",
       "    }\n",
       "\n",
       "    .dataframe tbody tr th {\n",
       "        vertical-align: top;\n",
       "    }\n",
       "\n",
       "    .dataframe thead th {\n",
       "        text-align: right;\n",
       "    }\n",
       "</style>\n",
       "<table border=\"1\" class=\"dataframe\">\n",
       "  <thead>\n",
       "    <tr style=\"text-align: right;\">\n",
       "      <th></th>\n",
       "      <th>Total</th>\n",
       "      <th>Percent</th>\n",
       "    </tr>\n",
       "  </thead>\n",
       "  <tbody>\n",
       "    <tr>\n",
       "      <th>SK_ID_CURR</th>\n",
       "      <td>0</td>\n",
       "      <td>0.0</td>\n",
       "    </tr>\n",
       "    <tr>\n",
       "      <th>TARGET</th>\n",
       "      <td>0</td>\n",
       "      <td>0.0</td>\n",
       "    </tr>\n",
       "  </tbody>\n",
       "</table>\n",
       "</div>"
      ],
      "text/plain": [
       "            Total  Percent\n",
       "SK_ID_CURR      0      0.0\n",
       "TARGET          0      0.0"
      ]
     },
     "metadata": {},
     "output_type": "display_data"
    }
   ],
   "source": [
    "df_missing = pd.DataFrame()\n",
    "for n_df, df in dict_df.items():\n",
    "    print(n_df)\n",
    "    display(missing_data(df).head(10))"
   ]
  },
  {
   "cell_type": "code",
   "execution_count": 12,
   "id": "5bd9e983",
   "metadata": {},
   "outputs": [],
   "source": [
    "#for c in dict_df['application_train'].columns:\n",
    "   # c_train = set(dict_df['application_train'][c].unique())\n",
    "    #c_test = set(dict_df['application_test'][c].unique())\n",
    "    #diff = c_train ^ c_test"
   ]
  },
  {
   "cell_type": "markdown",
   "id": "a5f6c474",
   "metadata": {},
   "source": [
    "## Merge & aggrégations"
   ]
  },
  {
   "cell_type": "code",
   "execution_count": 13,
   "id": "b225b65f",
   "metadata": {},
   "outputs": [],
   "source": [
    "# La fonction ce dessous permettant l'affichage de la matrice de corrélation pour un datatset \n",
    "def mat_corr(df, size_x, size_y):  \n",
    "    corr_matrix = df.select_dtypes(include = ['int', 'float']).corr()\n",
    "    mask = np.triu(corr_matrix)\n",
    "    plt.figure(figsize=(size_x,size_y))\n",
    "    sns.heatmap(corr_matrix, cmap=\"coolwarm\", mask=mask, linewidths=.5, annot=True, cbar=True, square=True)\n",
    "    plt.title(\"Matrice de corrélation des variables quantitatives\")\n",
    "#plt.savefig(\"Présentation/Images/matrice_corr.png\")\n",
    "    plt.show()\n",
    "    return plt.show()\n"
   ]
  },
  {
   "cell_type": "markdown",
   "id": "961bd4ef",
   "metadata": {},
   "source": [
    "### test de quelques fonctions"
   ]
  },
  {
   "cell_type": "code",
   "execution_count": 14,
   "id": "f25bfe81",
   "metadata": {},
   "outputs": [
    {
     "data": {
      "text/html": [
       "<div>\n",
       "<style scoped>\n",
       "    .dataframe tbody tr th:only-of-type {\n",
       "        vertical-align: middle;\n",
       "    }\n",
       "\n",
       "    .dataframe tbody tr th {\n",
       "        vertical-align: top;\n",
       "    }\n",
       "\n",
       "    .dataframe thead th {\n",
       "        text-align: right;\n",
       "    }\n",
       "</style>\n",
       "<table border=\"1\" class=\"dataframe\">\n",
       "  <thead>\n",
       "    <tr style=\"text-align: right;\">\n",
       "      <th></th>\n",
       "      <th>value</th>\n",
       "      <th>city_London</th>\n",
       "      <th>city_New York</th>\n",
       "      <th>city_Paris</th>\n",
       "      <th>month_Feb</th>\n",
       "      <th>month_Jan</th>\n",
       "      <th>month_Mar</th>\n",
       "    </tr>\n",
       "  </thead>\n",
       "  <tbody>\n",
       "    <tr>\n",
       "      <th>0</th>\n",
       "      <td>10</td>\n",
       "      <td>0</td>\n",
       "      <td>0</td>\n",
       "      <td>1</td>\n",
       "      <td>0</td>\n",
       "      <td>1</td>\n",
       "      <td>0</td>\n",
       "    </tr>\n",
       "    <tr>\n",
       "      <th>1</th>\n",
       "      <td>20</td>\n",
       "      <td>0</td>\n",
       "      <td>1</td>\n",
       "      <td>0</td>\n",
       "      <td>1</td>\n",
       "      <td>0</td>\n",
       "      <td>0</td>\n",
       "    </tr>\n",
       "    <tr>\n",
       "      <th>2</th>\n",
       "      <td>30</td>\n",
       "      <td>1</td>\n",
       "      <td>0</td>\n",
       "      <td>0</td>\n",
       "      <td>0</td>\n",
       "      <td>0</td>\n",
       "      <td>1</td>\n",
       "    </tr>\n",
       "    <tr>\n",
       "      <th>3</th>\n",
       "      <td>40</td>\n",
       "      <td>0</td>\n",
       "      <td>0</td>\n",
       "      <td>1</td>\n",
       "      <td>0</td>\n",
       "      <td>0</td>\n",
       "      <td>1</td>\n",
       "    </tr>\n",
       "    <tr>\n",
       "      <th>4</th>\n",
       "      <td>50</td>\n",
       "      <td>1</td>\n",
       "      <td>0</td>\n",
       "      <td>0</td>\n",
       "      <td>0</td>\n",
       "      <td>1</td>\n",
       "      <td>0</td>\n",
       "    </tr>\n",
       "    <tr>\n",
       "      <th>5</th>\n",
       "      <td>60</td>\n",
       "      <td>0</td>\n",
       "      <td>1</td>\n",
       "      <td>0</td>\n",
       "      <td>1</td>\n",
       "      <td>0</td>\n",
       "      <td>0</td>\n",
       "    </tr>\n",
       "  </tbody>\n",
       "</table>\n",
       "</div>"
      ],
      "text/plain": [
       "   value  city_London  city_New York  city_Paris  month_Feb  month_Jan  \\\n",
       "0     10            0              0           1          0          1   \n",
       "1     20            0              1           0          1          0   \n",
       "2     30            1              0           0          0          0   \n",
       "3     40            0              0           1          0          0   \n",
       "4     50            1              0           0          0          1   \n",
       "5     60            0              1           0          1          0   \n",
       "\n",
       "   month_Mar  \n",
       "0          0  \n",
       "1          0  \n",
       "2          1  \n",
       "3          1  \n",
       "4          0  \n",
       "5          0  "
      ]
     },
     "execution_count": 14,
     "metadata": {},
     "output_type": "execute_result"
    }
   ],
   "source": [
    "#ce script permet de tester la fonction get_dummies\n",
    "data = {'city': ['Paris', 'New York', 'London', 'Paris', 'London', 'New York'], \n",
    "        'month': ['Jan', 'Feb', 'Mar', 'Mar', 'Jan', 'Feb'],\n",
    "        'value': [10, 20, 30, 40, 50, 60]}\n",
    "\n",
    "df = pd.DataFrame(data)\n",
    "pd.get_dummies(df, columns=['city', 'month'])"
   ]
  },
  {
   "cell_type": "code",
   "execution_count": 15,
   "id": "04f98b20",
   "metadata": {},
   "outputs": [
    {
     "data": {
      "image/png": "[encoded data removed]",
      "text/plain": [
       "<Figure size 600x600 with 2 Axes>"
      ]
     },
     "metadata": {},
     "output_type": "display_data"
    }
   ],
   "source": [
    "\"le dataframe ci dessous a été crée a pour but de tester la fonctionmat_corr\"\n",
    "data = {'age': [25, 30, 35, 40, 45], \n",
    "        'income': [40000, 50000, 60000, 70000, 80000],\n",
    "        'expenses': [20000, 25000, 30000, 35000, 40000],\n",
    "        'savings': [20000, 25000, 30000, 35000, 40000]}\n",
    "\n",
    "df = pd.DataFrame(data)\n",
    "mat_corr(df, 6, 6)"
   ]
  },
  {
   "cell_type": "code",
   "execution_count": 16,
   "id": "67c5c826",
   "metadata": {},
   "outputs": [
    {
     "data": {
      "text/html": [
       "<div>\n",
       "<style scoped>\n",
       "    .dataframe tbody tr th:only-of-type {\n",
       "        vertical-align: middle;\n",
       "    }\n",
       "\n",
       "    .dataframe tbody tr th {\n",
       "        vertical-align: top;\n",
       "    }\n",
       "\n",
       "    .dataframe thead tr th {\n",
       "        text-align: left;\n",
       "    }\n",
       "\n",
       "    .dataframe thead tr:last-of-type th {\n",
       "        text-align: right;\n",
       "    }\n",
       "</style>\n",
       "<table border=\"1\" class=\"dataframe\">\n",
       "  <thead>\n",
       "    <tr>\n",
       "      <th></th>\n",
       "      <th></th>\n",
       "      <th colspan=\"3\" halign=\"left\">value1</th>\n",
       "      <th colspan=\"3\" halign=\"left\">value2</th>\n",
       "    </tr>\n",
       "    <tr>\n",
       "      <th></th>\n",
       "      <th></th>\n",
       "      <th>sum</th>\n",
       "      <th>mean</th>\n",
       "      <th>max</th>\n",
       "      <th>sum</th>\n",
       "      <th>mean</th>\n",
       "      <th>max</th>\n",
       "    </tr>\n",
       "    <tr>\n",
       "      <th>city</th>\n",
       "      <th>month</th>\n",
       "      <th></th>\n",
       "      <th></th>\n",
       "      <th></th>\n",
       "      <th></th>\n",
       "      <th></th>\n",
       "      <th></th>\n",
       "    </tr>\n",
       "  </thead>\n",
       "  <tbody>\n",
       "    <tr>\n",
       "      <th rowspan=\"2\" valign=\"top\">London</th>\n",
       "      <th>Jan</th>\n",
       "      <td>50</td>\n",
       "      <td>50.0</td>\n",
       "      <td>50</td>\n",
       "      <td>500</td>\n",
       "      <td>500.0</td>\n",
       "      <td>500</td>\n",
       "    </tr>\n",
       "    <tr>\n",
       "      <th>Mar</th>\n",
       "      <td>30</td>\n",
       "      <td>30.0</td>\n",
       "      <td>30</td>\n",
       "      <td>300</td>\n",
       "      <td>300.0</td>\n",
       "      <td>300</td>\n",
       "    </tr>\n",
       "    <tr>\n",
       "      <th>New York</th>\n",
       "      <th>Feb</th>\n",
       "      <td>80</td>\n",
       "      <td>40.0</td>\n",
       "      <td>60</td>\n",
       "      <td>800</td>\n",
       "      <td>400.0</td>\n",
       "      <td>600</td>\n",
       "    </tr>\n",
       "    <tr>\n",
       "      <th rowspan=\"2\" valign=\"top\">Paris</th>\n",
       "      <th>Jan</th>\n",
       "      <td>10</td>\n",
       "      <td>10.0</td>\n",
       "      <td>10</td>\n",
       "      <td>100</td>\n",
       "      <td>100.0</td>\n",
       "      <td>100</td>\n",
       "    </tr>\n",
       "    <tr>\n",
       "      <th>Mar</th>\n",
       "      <td>40</td>\n",
       "      <td>40.0</td>\n",
       "      <td>40</td>\n",
       "      <td>400</td>\n",
       "      <td>400.0</td>\n",
       "      <td>400</td>\n",
       "    </tr>\n",
       "  </tbody>\n",
       "</table>\n",
       "</div>"
      ],
      "text/plain": [
       "               value1           value2            \n",
       "                  sum  mean max    sum   mean  max\n",
       "city     month                                    \n",
       "London   Jan       50  50.0  50    500  500.0  500\n",
       "         Mar       30  30.0  30    300  300.0  300\n",
       "New York Feb       80  40.0  60    800  400.0  600\n",
       "Paris    Jan       10  10.0  10    100  100.0  100\n",
       "         Mar       40  40.0  40    400  400.0  400"
      ]
     },
     "execution_count": 16,
     "metadata": {},
     "output_type": "execute_result"
    }
   ],
   "source": [
    "#ce script permet de tester la fonction agg()\n",
    "data = {'city': ['Paris', 'New York', 'London', 'Paris', 'London', 'New York'], \n",
    "        'month': ['Jan', 'Feb', 'Mar', 'Mar', 'Jan', 'Feb'],\n",
    "        'value1': [10, 20, 30, 40, 50, 60],\n",
    "        'value2': [100, 200, 300, 400, 500, 600]}\n",
    "\n",
    "df = pd.DataFrame(data)\n",
    "df.groupby(['city', 'month']).agg({'value1': ['sum', 'mean', 'max'],\n",
    "                                            'value2': ['sum', 'mean', 'max']})"
   ]
  },
  {
   "cell_type": "markdown",
   "id": "13403243",
   "metadata": {},
   "source": [
    "### Merge des datasets Pos_cash_Balance et Previous_application"
   ]
  },
  {
   "cell_type": "code",
   "execution_count": 17,
   "id": "9f22e0f0",
   "metadata": {},
   "outputs": [],
   "source": [
    "POS_CASH_balance_agg = POS_CASH_balance.copy()\n",
    "previous_application_agg = previous_application.copy()"
   ]
  },
  {
   "cell_type": "code",
   "execution_count": 18,
   "id": "0e1ed679",
   "metadata": {},
   "outputs": [
    {
     "data": {
      "text/plain": [
       "array(['Active', 'Completed', 'Signed', 'Approved',\n",
       "       'Returned to the store', 'Demand', 'Canceled', 'XNA',\n",
       "       'Amortized debt'], dtype=object)"
      ]
     },
     "execution_count": 18,
     "metadata": {},
     "output_type": "execute_result"
    }
   ],
   "source": [
    "POS_CASH_balance_agg['NAME_CONTRACT_STATUS'].unique()"
   ]
  },
  {
   "cell_type": "code",
   "execution_count": null,
   "id": "1eb90010",
   "metadata": {},
   "outputs": [],
   "source": [
    "POS_CASH_balance_agg"
   ]
  },
  {
   "cell_type": "code",
   "execution_count": null,
   "id": "588d9f0b",
   "metadata": {},
   "outputs": [],
   "source": [
    "#previous_application_agg[['NAME_CONTRACT_STATUS', 'NAME_CONTRACT_STATUS1']]"
   ]
  },
  {
   "cell_type": "code",
   "execution_count": null,
   "id": "87362639",
   "metadata": {},
   "outputs": [],
   "source": [
    "previous_application_agg[previous_application_agg['SK_ID_CURR'] == 174278]['NAME_CONTRACT_STATUS']"
   ]
  },
  {
   "cell_type": "code",
   "execution_count": null,
   "id": "133b806f",
   "metadata": {},
   "outputs": [],
   "source": [
    "#POS_CASH_balance_agg[POS_CASH_balance_agg['SK_ID_CURR'] == 174278]['NAME_CONTRACT_STATUS']"
   ]
  },
  {
   "cell_type": "code",
   "execution_count": null,
   "id": "b45a88ed",
   "metadata": {},
   "outputs": [],
   "source": [
    "previous_application_agg[['NAME_CONTRACT_STATUS', 'SK_ID_CURR']]"
   ]
  },
  {
   "cell_type": "code",
   "execution_count": null,
   "id": "48e5bc73",
   "metadata": {},
   "outputs": [],
   "source": [
    "'''\n",
    "L'observation'XNA' n'existe pas dans le dataset application test, \n",
    "pour cela je vais la remplacer par Na et l'imputer par la suite'''\n",
    "\n",
    "previous_application_agg['NAME_CONTRACT_STATUS1'] = \\\n",
    "                POS_CASH_balance_agg['NAME_CONTRACT_STATUS']\\\n",
    "                            .map(lambda x: x if x != 'XNA' else np.nan)\n",
    "POS_CASH_balance_agg['NAME_CONTRACT_STATUS'] = \\\n",
    "                POS_CASH_balance_agg['NAME_CONTRACT_STATUS']\\\n",
    "                            .map(lambda x: x if x != 'XNA' else np.nan)"
   ]
  },
  {
   "cell_type": "code",
   "execution_count": null,
   "id": "5b02ee58",
   "metadata": {},
   "outputs": [],
   "source": []
  },
  {
   "cell_type": "code",
   "execution_count": null,
   "id": "36b379a3",
   "metadata": {},
   "outputs": [],
   "source": [
    "POS_CASH_balance_agg = pd.get_dummies(POS_CASH_balance_agg,\n",
    "                                         prefix='N_C_STATUS',\n",
    "                                         columns=['NAME_CONTRACT_STATUS'])\n"
   ]
  },
  {
   "cell_type": "code",
   "execution_count": null,
   "id": "4469e6a1",
   "metadata": {},
   "outputs": [],
   "source": [
    "# aggregate along 'SK_ID_PREV'\n",
    "def abs_min(x): return np.abs(np.min(x))\n",
    "\n",
    "dic_agg = {'MONTHS_BALANCE': [abs_min], #SOLDE MENSUEL\n",
    "          'CNT_INSTALMENT': ['max'], # nb of changes in the instalment parameters\n",
    "          'CNT_INSTALMENT_FUTURE': ['max'], # maximum number of instalments \n",
    "          'N_C_STATUS_Active': ['sum'],\n",
    "          'N_C_STATUS_Completed': ['sum'],\n",
    "          'N_C_STATUS_Signed': ['sum'],\n",
    "          'N_C_STATUS_Demand': ['sum'],\n",
    "          'N_C_STATUS_Returned to the store': ['sum'],\n",
    "          'N_C_STATUS_Approved': ['sum'],\n",
    "          'N_C_STATUS_Amortized debt': ['sum'],\n",
    "          'N_C_STATUS_Canceled': ['sum'],\n",
    "          'SK_DPD': ['mean'], # days past due\n",
    "          'SK_DPD_DEF': ['mean'], # days past due with tolerance\n",
    "          }\n",
    "\n",
    "POS_CASH_balance_agg= \\\n",
    "           POS_CASH_balance_agg.groupby('SK_ID_PREV').agg(dic_agg)"
   ]
  },
  {
   "cell_type": "code",
   "execution_count": null,
   "id": "0651e4c7",
   "metadata": {},
   "outputs": [],
   "source": [
    "# flatten two levels columns indices\n",
    "POS_CASH_balance_agg.columns = ['__'.join(tup).strip() \\\n",
    "                             for tup in POS_CASH_balance_agg.columns.values]"
   ]
  },
  {
   "cell_type": "code",
   "execution_count": null,
   "id": "8bf9c165",
   "metadata": {},
   "outputs": [],
   "source": [
    "POS_CASH_balance_agg.columns"
   ]
  },
  {
   "cell_type": "code",
   "execution_count": null,
   "id": "35405337",
   "metadata": {},
   "outputs": [],
   "source": [
    "POS_CASH_balance_agg.columns = ['PrLCash_'+col if col not in ['SK_ID_BUREAU',\n",
    "                                                  'SK_ID_CURR'] \\\n",
    "                                  else col for col in POS_CASH_balance_agg.columns]"
   ]
  },
  {
   "cell_type": "code",
   "execution_count": null,
   "id": "7104f452",
   "metadata": {},
   "outputs": [],
   "source": [
    "mat_corr(POS_CASH_balance_agg, 12, 12)"
   ]
  },
  {
   "cell_type": "code",
   "execution_count": null,
   "id": "f3fa8d75",
   "metadata": {},
   "outputs": [],
   "source": [
    "POS_CASH_balance_agg = POS_CASH_balance_agg.drop('PrLCash_CNT_INSTALMENT_FUTURE__max', axis = 1)"
   ]
  },
  {
   "cell_type": "code",
   "execution_count": null,
   "id": "6164e17f",
   "metadata": {},
   "outputs": [],
   "source": [
    "previous_application_agg = pd.merge(previous_application_agg, POS_CASH_balance_agg.reset_index(),\n",
    "                                                how='left',\n",
    "                                                on='SK_ID_PREV')"
   ]
  },
  {
   "cell_type": "code",
   "execution_count": null,
   "id": "93c450a9",
   "metadata": {},
   "outputs": [],
   "source": [
    "previous_application_agg"
   ]
  },
  {
   "cell_type": "markdown",
   "id": "3df665e7",
   "metadata": {},
   "source": [
    "### Merges des datasets Installements payments et previous application"
   ]
  },
  {
   "cell_type": "code",
   "execution_count": null,
   "id": "637dd631",
   "metadata": {},
   "outputs": [],
   "source": [
    "inst_Payments_agg = installments_payments.copy()"
   ]
  },
  {
   "cell_type": "code",
   "execution_count": null,
   "id": "67aa5a58",
   "metadata": {},
   "outputs": [],
   "source": [
    "inst_Payments_agg"
   ]
  },
  {
   "cell_type": "code",
   "execution_count": null,
   "id": "297b1eb2",
   "metadata": {},
   "outputs": [],
   "source": [
    "corr_matrix = inst_Payments_agg.select_dtypes(include = ['int', 'float']).corr()\n",
    "mask = np.triu(corr_matrix)\n",
    "plt.figure(figsize=(18,14))\n",
    "sns.heatmap(corr_matrix, cmap=\"coolwarm\", mask=mask, linewidths=.5, annot=True, cbar=True, square=True)\n",
    "plt.title(\"Matrice de corrélation des variables quantitatives\")\n",
    "#plt.savefig(\"Présentation/Images/matrice_corr.png\")\n",
    "plt.show()"
   ]
  },
  {
   "cell_type": "code",
   "execution_count": null,
   "id": "af9d7e11",
   "metadata": {},
   "outputs": [],
   "source": [
    "# Percentage and difference paid in each installment (amount paid and installment value)\n",
    "inst_Payments_agg['PAYMENT_PERC'] = inst_Payments_agg['AMT_PAYMENT'] / inst_Payments_agg['AMT_INSTALMENT']\n",
    "inst_Payments_agg['PAYMENT_DIFF'] = inst_Payments_agg['AMT_INSTALMENT'] - inst_Payments_agg['AMT_PAYMENT']\n",
    "\n",
    "dic_installements = {\n",
    "    'NUM_INSTALMENT_VERSION': ['nunique'],\n",
    "    'NUM_INSTALMENT_NUMBER': ['max'],\n",
    "    'DAYS_INSTALMENT': ['max', 'mean'],\n",
    "    'DAYS_ENTRY_PAYMENT': ['max', 'mean'],\n",
    "    'AMT_INSTALMENT': ['max', 'mean'],\n",
    "    'AMT_PAYMENT': ['min', 'max', 'mean'],\n",
    "    'PAYMENT_PERC': ['max', 'mean', 'sum'],\n",
    "    'PAYMENT_DIFF': ['max', 'mean']}\n",
    "\n",
    "\n",
    "inst_Payments_agg = inst_Payments_agg.groupby('SK_ID_PREV').agg(dic_installements)\n",
    "#inst_Payments_agg.columns = pd.Index(['INS_' + e[0] + \"_\" + e[1].upper() for e in inst_Payments_agg.columns.tolist()])\n",
    "# Count installments accounts\n",
    "#inst_Payments_agg['INS_COUNT'] = inst_Payments_agg.groupby('SK_ID_PREV').size()\n",
    "\n",
    "#inst_Payments_agg.reset_index(inplace = True)\n",
    "#del inst_Payments_agg\n",
    "\n",
    "\n",
    "\n",
    "print(\"INSTALLMENTS PAYMENTS SHAPE:\", inst_Payments_agg.shape, \"\\n\")\n",
    "\n",
    "inst_Payments_agg.head()"
   ]
  },
  {
   "cell_type": "code",
   "execution_count": null,
   "id": "4b078958",
   "metadata": {},
   "outputs": [],
   "source": [
    "inst_Payments_agg"
   ]
  },
  {
   "cell_type": "code",
   "execution_count": null,
   "id": "127bf4ab",
   "metadata": {},
   "outputs": [],
   "source": [
    "inst_Payments_agg.columns = ['__'.join(tup).strip() \\\n",
    "                             for tup in inst_Payments_agg.columns.values if tup != ['index' , 'SK_ID_PREV']]"
   ]
  },
  {
   "cell_type": "code",
   "execution_count": null,
   "id": "d7125998",
   "metadata": {},
   "outputs": [],
   "source": [
    "inst_Payments_agg "
   ]
  },
  {
   "cell_type": "code",
   "execution_count": null,
   "id": "e3c073a9",
   "metadata": {},
   "outputs": [],
   "source": [
    "inst_Payments_agg.columns "
   ]
  },
  {
   "cell_type": "code",
   "execution_count": null,
   "id": "0779a210",
   "metadata": {},
   "outputs": [],
   "source": [
    "mat_corr(inst_Payments_agg, 12, 12)"
   ]
  },
  {
   "cell_type": "code",
   "execution_count": null,
   "id": "fd0b015c",
   "metadata": {},
   "outputs": [],
   "source": [
    "cols_to_drop_inst_pay = ['DAYS_INSTALMENT__mean', 'DAYS_ENTRY_PAYMENT__max', 'DAYS_ENTRY_PAYMENT__mean',\n",
    "                 'AMT_PAYMENT__min', 'AMT_PAYMENT__mean', 'PAYMENT_PERC__mean', 'PAYMENT_PERC__sum']"
   ]
  },
  {
   "cell_type": "code",
   "execution_count": null,
   "id": "0f990069",
   "metadata": {},
   "outputs": [],
   "source": [
    "inst_Payments_agg = inst_Payments_agg.drop(cols_to_drop_inst_pay, axis = 1)"
   ]
  },
  {
   "cell_type": "code",
   "execution_count": null,
   "id": "faf0aa99",
   "metadata": {},
   "outputs": [],
   "source": [
    "inst_Payments_agg.columns = ['inst_Payments_' + col if col not in ['SK_ID_PREV',\n",
    "                                                  'SK_ID_PREV'] \\\n",
    "                                  else col for col in inst_Payments_agg.columns ]"
   ]
  },
  {
   "cell_type": "code",
   "execution_count": null,
   "id": "1237dd5d",
   "metadata": {},
   "outputs": [],
   "source": [
    "inst_Payments_agg.columns"
   ]
  },
  {
   "cell_type": "code",
   "execution_count": null,
   "id": "34a6cfc7",
   "metadata": {},
   "outputs": [],
   "source": [
    "previous_application_agg = pd.merge(previous_application_agg, inst_Payments_agg.reset_index(),\n",
    "                                                how='left',\n",
    "                                                on='SK_ID_PREV')"
   ]
  },
  {
   "cell_type": "code",
   "execution_count": null,
   "id": "0af892ab",
   "metadata": {},
   "outputs": [],
   "source": [
    "previous_application_agg"
   ]
  },
  {
   "cell_type": "markdown",
   "id": "a261e6d9",
   "metadata": {},
   "source": [
    "### Merge des datasets  Credit_card_balance et previous application"
   ]
  },
  {
   "cell_type": "code",
   "execution_count": null,
   "id": "64932f3e",
   "metadata": {},
   "outputs": [],
   "source": [
    "credit_card_balance_agg = credit_card_balance.copy()"
   ]
  },
  {
   "cell_type": "code",
   "execution_count": null,
   "id": "05a29e59",
   "metadata": {},
   "outputs": [],
   "source": [
    "credit_card_balance_agg"
   ]
  },
  {
   "cell_type": "code",
   "execution_count": null,
   "id": "0c2e74ea",
   "metadata": {},
   "outputs": [],
   "source": [
    "mat_corr(credit_card_balance_agg, 12, 12)"
   ]
  },
  {
   "cell_type": "code",
   "execution_count": null,
   "id": "c3e31c18",
   "metadata": {},
   "outputs": [],
   "source": [
    "#Supprimer les variables redondantes\n",
    "credit_card_balance_agg = credit_card_balance.drop(columns=['AMT_PAYMENT_CURRENT',\n",
    "                   'AMT_RECEIVABLE_PRINCIPAL', 'AMT_RECIVABLE',\n",
    "                   'CNT_DRAWINGS_ATM_CURRENT','CNT_DRAWINGS_POS_CURRENT',\n",
    "                   'CNT_DRAWINGS_OTHER_CURRENT','AMT_DRAWINGS_ATM_CURRENT',\n",
    "                   'AMT_DRAWINGS_OTHER_CURRENT', 'AMT_DRAWINGS_POS_CURRENT'\n",
    "                   ])"
   ]
  },
  {
   "cell_type": "code",
   "execution_count": null,
   "id": "d132d6b0",
   "metadata": {},
   "outputs": [],
   "source": [
    "credit_card_balance_agg"
   ]
  },
  {
   "cell_type": "code",
   "execution_count": null,
   "id": "3a85ce57",
   "metadata": {},
   "outputs": [],
   "source": [
    "credit_card_balance_agg['NAME_CONTRACT_STATUS'].unique()"
   ]
  },
  {
   "cell_type": "code",
   "execution_count": null,
   "id": "60ea5d78",
   "metadata": {},
   "outputs": [],
   "source": [
    "credit_card_balance_agg = pd.get_dummies(credit_card_balance_agg,\n",
    "                                      prefix='N_C_STATUS',\n",
    "                                      columns=['NAME_CONTRACT_STATUS'])"
   ]
  },
  {
   "cell_type": "code",
   "execution_count": null,
   "id": "a90a07aa",
   "metadata": {},
   "outputs": [],
   "source": [
    "ind = credit_card_balance_agg.groupby('SK_ID_PREV')['MONTHS_BALANCE'].idxmax()"
   ]
  },
  {
   "cell_type": "code",
   "execution_count": null,
   "id": "31cc6f37",
   "metadata": {},
   "outputs": [],
   "source": [
    "ind"
   ]
  },
  {
   "cell_type": "code",
   "execution_count": null,
   "id": "8c37aa84",
   "metadata": {},
   "outputs": [],
   "source": [
    "# find the AMT_CREDIT_LIMIT for the last month (to merge to the aggregated dataframe later)\n",
    "ind = credit_card_balance_agg.groupby('SK_ID_PREV')['MONTHS_BALANCE'].idxmax()# renvoie le solde mensuel max du dernier mois\n",
    "ser_last_AMT_CREDIT_LIMIT_ACTUAL = credit_card_balance_agg.loc[ind, ['SK_ID_PREV',\n",
    "                                                                  'AMT_CREDIT_LIMIT_ACTUAL']]\n",
    "ser_last_AMT_CREDIT_LIMIT_ACTUAL = \\\n",
    "                    ser_last_AMT_CREDIT_LIMIT_ACTUAL.set_index('SK_ID_PREV')\n",
    "ser_last_AMT_CREDIT_LIMIT_ACTUAL.columns = ['AMT_CREDIT_LIMIT_ACTUAL_last']"
   ]
  },
  {
   "cell_type": "code",
   "execution_count": null,
   "id": "0a03fb1e",
   "metadata": {},
   "outputs": [],
   "source": [
    "#ind"
   ]
  },
  {
   "cell_type": "code",
   "execution_count": null,
   "id": "dbd74278",
   "metadata": {},
   "outputs": [],
   "source": [
    "credit_card_balance_agg"
   ]
  },
  {
   "cell_type": "code",
   "execution_count": null,
   "id": "6ac184ff",
   "metadata": {},
   "outputs": [],
   "source": [
    "dicc_agg_card = {\n",
    "          'MONTHS_BALANCE': [abs_min, 'size'],\n",
    "          'AMT_BALANCE': ['max', 'mean'],\n",
    "          'AMT_CREDIT_LIMIT_ACTUAL': ['mean'],\n",
    "          'AMT_DRAWINGS_CURRENT': ['mean'],\n",
    "          'AMT_INST_MIN_REGULARITY': ['mean'],\n",
    "          'AMT_PAYMENT_TOTAL_CURRENT': ['max', 'mean'],\n",
    "          'AMT_TOTAL_RECEIVABLE': ['max', 'mean'],\n",
    "          'CNT_DRAWINGS_CURRENT': ['max', 'mean'],\n",
    "          'CNT_INSTALMENT_MATURE_CUM': ['max'], # nb of paid installments \n",
    "          'N_C_STATUS_Active': ['sum'],\n",
    "          'N_C_STATUS_Completed': ['sum'],\n",
    "          'N_C_STATUS_Signed': ['sum'],\n",
    "          'N_C_STATUS_Demand': ['sum'],\n",
    "          'N_C_STATUS_Refused': ['sum'],\n",
    "          'N_C_STATUS_Approved': ['sum'],   \n",
    "          'N_C_STATUS_Sent proposal': ['sum'],\n",
    "    \n",
    "###Attention A changer_---------         \n",
    "        'SK_DPD': ['max'], # days past due Attention prendre le maximum( le nombre de jour maximale de retard)\n",
    "          'SK_DPD_DEF': ['max'],} # days past due Attention prendre le maximum( le nombre de jour maximale de retard)"
   ]
  },
  {
   "cell_type": "code",
   "execution_count": null,
   "id": "bd4b3930",
   "metadata": {},
   "outputs": [],
   "source": [
    "credit_card_balance_agg= \\\n",
    "           credit_card_balance_agg.groupby('SK_ID_PREV').agg(dicc_agg_card)"
   ]
  },
  {
   "cell_type": "code",
   "execution_count": null,
   "id": "e63cc517",
   "metadata": {},
   "outputs": [],
   "source": [
    "credit_card_balance_agg"
   ]
  },
  {
   "cell_type": "code",
   "execution_count": null,
   "id": "2804421f",
   "metadata": {},
   "outputs": [],
   "source": [
    "credit_card_balance_agg.columns = ['__'.join(tup).strip() \\\n",
    "                             for tup in credit_card_balance_agg.columns.values]"
   ]
  },
  {
   "cell_type": "code",
   "execution_count": null,
   "id": "c99f9e73",
   "metadata": {},
   "outputs": [],
   "source": [
    "mat_corr(credit_card_balance_agg, 12, 12)"
   ]
  },
  {
   "cell_type": "code",
   "execution_count": null,
   "id": "07c33d55",
   "metadata": {},
   "outputs": [],
   "source": [
    "cols_drop_CCb = ['MONTHS_BALANCE__size', 'AMT_TOTAL_RECEIVABLE__max', 'AMT_TOTAL_RECEIVABLE__mean',\n",
    "              'CNT_DRAWINGS_CURRENT__mean', 'AMT_BALANCE__max', 'CNT_DRAWINGS_CURRENT__mean', 'AMT_DRAWINGS_CURRENT__mean']"
   ]
  },
  {
   "cell_type": "code",
   "execution_count": null,
   "id": "21961163",
   "metadata": {},
   "outputs": [],
   "source": [
    "credit_card_balance_agg.columns"
   ]
  },
  {
   "cell_type": "code",
   "execution_count": null,
   "id": "3baeea37",
   "metadata": {},
   "outputs": [],
   "source": [
    "credit_card_balance_agg = credit_card_balance_agg.drop(cols_drop_CCb, axis = 1)"
   ]
  },
  {
   "cell_type": "code",
   "execution_count": null,
   "id": "e3d8d5f5",
   "metadata": {},
   "outputs": [],
   "source": [
    "credit_card_balance_agg"
   ]
  },
  {
   "cell_type": "code",
   "execution_count": null,
   "id": "e2ac51f6",
   "metadata": {},
   "outputs": [],
   "source": [
    "credit_card_balance_agg = \\\n",
    "                    credit_card_balance_agg.merge(ser_last_AMT_CREDIT_LIMIT_ACTUAL,\n",
    "                                               'left', on='SK_ID_PREV')"
   ]
  },
  {
   "cell_type": "code",
   "execution_count": null,
   "id": "349d328f",
   "metadata": {},
   "outputs": [],
   "source": [
    "credit_card_balance_agg.columns = ['PrLC_'+col if col not in ['SK_ID_PREV'] \\\n",
    "                            else col for col in credit_card_balance_agg.columns]"
   ]
  },
  {
   "cell_type": "code",
   "execution_count": null,
   "id": "b20447bd",
   "metadata": {},
   "outputs": [],
   "source": [
    "previous_application_agg = pd.merge(previous_application_agg, credit_card_balance_agg.reset_index(),\n",
    "                                                how='left',\n",
    "                                                on='SK_ID_PREV')"
   ]
  },
  {
   "cell_type": "code",
   "execution_count": null,
   "id": "d533402d",
   "metadata": {},
   "outputs": [],
   "source": [
    "#previous_application_agg['PrLC_N_C_STATUS_Completed__sum'].unique()"
   ]
  },
  {
   "cell_type": "code",
   "execution_count": null,
   "id": "1ad9c6f5",
   "metadata": {},
   "outputs": [],
   "source": [
    "#credit_card_balance_agg = credit_card_balance.drop(columns=['AMT_PAYMENT_CURRENT',\n",
    "                  #'AMT_RECEIVABLE_PRINCIPAL', 'AMT_RECIVABLE',\n",
    "                  # 'CNT_DRAWINGS_ATM_CURRENT','CNT_DRAWINGS_POS_CURRENT',\n",
    "                  # 'CNT_DRAWINGS_OTHER_CURRENT','AMT_DRAWINGS_ATM_CURRENT',\n",
    "                   #'AMT_DRAWINGS_OTHER_CURRENT', 'AMT_DRAWINGS_POS_CURRENT'\n",
    "                  # ])"
   ]
  },
  {
   "cell_type": "code",
   "execution_count": null,
   "id": "5219f3f0",
   "metadata": {},
   "outputs": [],
   "source": [
    "#def one_hot_encoder(df, nan_as_category=True):\n",
    "    #'''One-hot encoding for categorical columns with get_dummies'''\n",
    "    #original_columns = list(df.columns)\n",
    "    #categorical_columns = df.select_dtypes([\"category\", \"object\"]).columns.tolist()\n",
    "    # categorical_columns = [col for col in df.columns if df[col].dtype == 'object']\n",
    "    #df = pd.get_dummies(df, columns=categorical_columns, dummy_na=nan_as_category)\n",
    "    #new_columns = [c for c in df.columns if c not in original_columns]\n",
    "    #return df, new_columns\n"
   ]
  },
  {
   "cell_type": "markdown",
   "id": "383c31f5",
   "metadata": {},
   "source": [
    "### Merge des datasets  Bureau et Bureau Balance"
   ]
  },
  {
   "cell_type": "code",
   "execution_count": null,
   "id": "c2ebc0c3",
   "metadata": {},
   "outputs": [],
   "source": [
    "bureau_balance_agg = bureau_balance.copy()"
   ]
  },
  {
   "cell_type": "code",
   "execution_count": null,
   "id": "389107c8",
   "metadata": {},
   "outputs": [],
   "source": [
    "bureau_balance_agg "
   ]
  },
  {
   "cell_type": "code",
   "execution_count": null,
   "id": "f237d618",
   "metadata": {},
   "outputs": [],
   "source": [
    "#bureau_balance_agg.groupby('STATUTS')[]"
   ]
  },
  {
   "cell_type": "code",
   "execution_count": null,
   "id": "335e5e50",
   "metadata": {},
   "outputs": [],
   "source": [
    "bureau_balance_agg['STATUS'].value_counts()"
   ]
  },
  {
   "cell_type": "code",
   "execution_count": null,
   "id": "66823dd8",
   "metadata": {},
   "outputs": [],
   "source": [
    "# Change 0 to 'N' in STATUS\n",
    "bureau_balance_agg.loc[:,'STATUS'] = \\\n",
    "   bureau_balance_agg.loc[:,'STATUS'].replace({'0': 'N'})\n"
   ]
  },
  {
   "cell_type": "code",
   "execution_count": null,
   "id": "98f85750",
   "metadata": {},
   "outputs": [],
   "source": [
    "bureau_balance_agg = pd.get_dummies(bureau_balance_agg,\n",
    "                                      prefix='STATUS',\n",
    "                                      columns=['STATUS'])"
   ]
  },
  {
   "cell_type": "code",
   "execution_count": null,
   "id": "e3345b6e",
   "metadata": {},
   "outputs": [],
   "source": [
    "#H = list(bureau_balance_agg.loc[:, 'STATUS_1':].columns)\n",
    "#print(H)#"
   ]
  },
  {
   "cell_type": "code",
   "execution_count": null,
   "id": "ce0092b9",
   "metadata": {},
   "outputs": [],
   "source": [
    "dict_bureau_balance = {'STATUS_1': ['max', 'mean'], 'STATUS_2': ['max', 'mean'],\n",
    "                        'STATUS_3':['max', 'mean'],'STATUS_4': ['max', 'mean'],\n",
    "                        'STATUS_5':  ['max', 'mean'],'STATUS_C': ['max', 'mean'],\n",
    "                        'STATUS_N': ['max', 'mean'],'STATUS_X':['max', 'mean'], 'MONTHS_BALANCE':'mean'}\n",
    "    "
   ]
  },
  {
   "cell_type": "code",
   "execution_count": null,
   "id": "ad4470c1",
   "metadata": {},
   "outputs": [],
   "source": [
    "bureau_balance_agg = bureau_balance_agg.groupby('SK_ID_BUREAU').agg(dict_bureau_balance)"
   ]
  },
  {
   "cell_type": "code",
   "execution_count": null,
   "id": "4418f152",
   "metadata": {},
   "outputs": [],
   "source": [
    "bureau_balance_agg"
   ]
  },
  {
   "cell_type": "code",
   "execution_count": null,
   "id": "8dc09c6c",
   "metadata": {},
   "outputs": [],
   "source": [
    "#bureau_balance_agg = bureau_balance_agg.reset_index()"
   ]
  },
  {
   "cell_type": "code",
   "execution_count": null,
   "id": "655cdfa1",
   "metadata": {},
   "outputs": [],
   "source": [
    "bureau_balance_agg.columns = ['__'.join(tup).strip() \\\n",
    "                             for tup in bureau_balance_agg.columns.values]"
   ]
  },
  {
   "cell_type": "code",
   "execution_count": null,
   "id": "15603381",
   "metadata": {},
   "outputs": [],
   "source": [
    "mat_corr(bureau_balance_agg, 12, 12)"
   ]
  },
  {
   "cell_type": "code",
   "execution_count": null,
   "id": "6ee482d1",
   "metadata": {},
   "outputs": [],
   "source": [
    "bureau_balance_agg"
   ]
  },
  {
   "cell_type": "code",
   "execution_count": null,
   "id": "743f0778",
   "metadata": {},
   "outputs": [],
   "source": [
    "#bureau_balance_agg = bureau_balance_agg.reset_index()"
   ]
  },
  {
   "cell_type": "code",
   "execution_count": null,
   "id": "a84f3d3b",
   "metadata": {},
   "outputs": [],
   "source": [
    "bureau_balance_agg.columns = ['bb_agg_'+ col if col not in ['SK_ID_BUREAU'] \\\n",
    "                            else col for col in bureau_balance_agg.columns]"
   ]
  },
  {
   "cell_type": "code",
   "execution_count": null,
   "id": "6fb98ff3",
   "metadata": {},
   "outputs": [],
   "source": [
    "bureau_balance_agg"
   ]
  },
  {
   "cell_type": "code",
   "execution_count": null,
   "id": "47c274bb",
   "metadata": {},
   "outputs": [],
   "source": [
    "bureau.agg = bureau.copy()"
   ]
  },
  {
   "cell_type": "code",
   "execution_count": null,
   "id": "2b01b8ea",
   "metadata": {},
   "outputs": [],
   "source": [
    "bureau.agg "
   ]
  },
  {
   "cell_type": "code",
   "execution_count": null,
   "id": "37f2c874",
   "metadata": {},
   "outputs": [],
   "source": [
    "bureau.agg = pd.merge(bureau.agg, bureau_balance_agg.reset_index(),\n",
    "                                      how='left',\n",
    "                                      on='SK_ID_BUREAU')"
   ]
  },
  {
   "cell_type": "code",
   "execution_count": null,
   "id": "f3fc524e",
   "metadata": {},
   "outputs": [],
   "source": [
    "bureau.agg"
   ]
  },
  {
   "cell_type": "code",
   "execution_count": null,
   "id": "0cf4aaae",
   "metadata": {},
   "outputs": [],
   "source": [
    "bureau.agg = bureau.agg.drop('CREDIT_CURRENCY', axis =1)"
   ]
  },
  {
   "cell_type": "code",
   "execution_count": null,
   "id": "4fb014c3",
   "metadata": {},
   "outputs": [],
   "source": [
    "bureau.agg = pd.get_dummies(bureau.agg,\n",
    "                                prefix='CREDIT_TYPE',\n",
    "                                columns=['CREDIT_TYPE'])\n",
    "bureau.agg = pd.get_dummies(bureau.agg,\n",
    "                                prefix='CREDIT_ACTIVE',\n",
    "                                columns=['CREDIT_ACTIVE'])"
   ]
  },
  {
   "cell_type": "code",
   "execution_count": null,
   "id": "d8540133",
   "metadata": {},
   "outputs": [],
   "source": [
    "bureau.agg.columns"
   ]
  },
  {
   "cell_type": "code",
   "execution_count": null,
   "id": "e6dde4ac",
   "metadata": {},
   "outputs": [],
   "source": [
    "dict_bureau = {'DAYS_CREDIT': [abs_min],\n",
    "          'CREDIT_DAY_OVERDUE': ['sum','max'], # days past due\n",
    "          'DAYS_CREDIT_ENDDATE': ['max'], # max remaining duration of credit\n",
    "          'DAYS_ENDDATE_FACT': ['min'], # delay since last\n",
    "          'AMT_CREDIT_MAX_OVERDUE': ['mean', 'max'], # max amount overdue\n",
    "          'CNT_CREDIT_PROLONG': ['mean'], # nb of times credit was prolongated\n",
    "          'AMT_CREDIT_SUM': ['mean', 'sum'],\n",
    "          'AMT_CREDIT_SUM_DEBT': ['sum'],\n",
    "          'AMT_CREDIT_SUM_LIMIT': ['sum'],\n",
    "          'AMT_CREDIT_SUM_OVERDUE': ['sum'],\n",
    "          'AMT_ANNUITY': ['mean'],\n",
    "          'bb_agg_STATUS_1__max': ['max'],\n",
    "          'bb_agg_STATUS_1__mean': ['mean'],\n",
    "          'bb_agg_STATUS_2__max': ['max'],\n",
    "          'bb_agg_STATUS_2__mean': ['mean'],\n",
    "          'bb_agg_STATUS_3__max': ['max'],\n",
    "          'bb_agg_STATUS_3__mean': ['mean'],\n",
    "          'bb_agg_STATUS_4__max': ['max'],\n",
    "          'bb_agg_STATUS_4__mean': ['mean'],\n",
    "          'bb_agg_STATUS_5__max': ['max'],\n",
    "          'bb_agg_STATUS_5__mean': ['mean'],\n",
    "          'bb_agg_STATUS_C__max': ['max'],\n",
    "          'bb_agg_STATUS_C__mean': ['mean'],\n",
    "          'bb_agg_STATUS_N__max': ['max'],\n",
    "          'bb_agg_STATUS_N__mean': ['mean'],\n",
    "          'bb_agg_STATUS_X__max': ['max'],\n",
    "          'bb_agg_STATUS_X__mean': ['mean'],\n",
    "          'bb_agg_MONTHS_BALANCE__mean': ['mean'], # nb of month (total duration) of the contract\t\t\n",
    "          'CREDIT_TYPE_Another type of loan': ['sum'],\n",
    "        'CREDIT_TYPE_Car loan': ['sum'], \n",
    "        'CREDIT_TYPE_Cash loan (non-earmarked)': ['sum'],\n",
    "        'CREDIT_TYPE_Consumer credit': ['sum'], \n",
    "        'CREDIT_TYPE_Credit card': ['sum'],\n",
    "       'CREDIT_TYPE_Interbank credit': ['sum'],\n",
    "       'CREDIT_TYPE_Loan for business development': ['sum'],\n",
    "       'CREDIT_TYPE_Loan for purchase of shares (margin lending)': ['sum'],\n",
    "       'CREDIT_TYPE_Loan for the purchase of equipment': ['sum'],\n",
    "       'CREDIT_TYPE_Loan for working capital replenishment': ['sum'],\n",
    "       'CREDIT_TYPE_Microloan': ['sum'] , 'CREDIT_TYPE_Mobile operator loan': ['sum'],\n",
    "       'CREDIT_TYPE_Mortgage': ['sum'], 'CREDIT_TYPE_Real estate loan': ['sum'],\n",
    "       'CREDIT_TYPE_Unknown type of loan': ['sum'], 'CREDIT_ACTIVE_Active': ['sum'],\n",
    "       'CREDIT_ACTIVE_Bad debt': ['sum'], 'CREDIT_ACTIVE_Closed': ['sum'], 'CREDIT_ACTIVE_Sold': ['sum']}"
   ]
  },
  {
   "cell_type": "code",
   "execution_count": null,
   "id": "01beb955",
   "metadata": {},
   "outputs": [],
   "source": [
    "bureau.agg = \\\n",
    "            bureau.agg.groupby('SK_ID_CURR').agg(dict_bureau)"
   ]
  },
  {
   "cell_type": "code",
   "execution_count": null,
   "id": "a682a3ac",
   "metadata": {},
   "outputs": [],
   "source": [
    "bureau.agg"
   ]
  },
  {
   "cell_type": "code",
   "execution_count": null,
   "id": "d338c75d",
   "metadata": {},
   "outputs": [],
   "source": [
    "bureau.agg.columns = ['__'.join(tup).strip() \\\n",
    "                             for tup in bureau.agg.columns.values]"
   ]
  },
  {
   "cell_type": "code",
   "execution_count": null,
   "id": "b4e8e005",
   "metadata": {},
   "outputs": [],
   "source": [
    "mat_corr(bureau.agg, 16, 16)"
   ]
  },
  {
   "cell_type": "code",
   "execution_count": null,
   "id": "338b4d39",
   "metadata": {},
   "outputs": [],
   "source": [
    "#bureau.agg = bureau.agg.reset_index()"
   ]
  },
  {
   "cell_type": "code",
   "execution_count": null,
   "id": "3200a117",
   "metadata": {},
   "outputs": [],
   "source": [
    "cols_bureau_to_drop = ['CNT_CREDIT_PROLONG__mean', 'DAYS_CREDIT_ENDDATE__max']"
   ]
  },
  {
   "cell_type": "code",
   "execution_count": null,
   "id": "5966f6db",
   "metadata": {},
   "outputs": [],
   "source": [
    "#bureau.agg = bureau.agg.drop(cols_bureau_to_drop, axis = 1)"
   ]
  },
  {
   "cell_type": "code",
   "execution_count": null,
   "id": "1fa144c7",
   "metadata": {},
   "outputs": [],
   "source": [
    "bureau.agg.columns = ['Bureau_'+ col if col not in ['SK_ID_BUREAU'] \\\n",
    "                            else col for col in bureau.agg.columns]"
   ]
  },
  {
   "cell_type": "code",
   "execution_count": null,
   "id": "79959ead",
   "metadata": {},
   "outputs": [],
   "source": [
    "bureau.agg"
   ]
  },
  {
   "cell_type": "markdown",
   "id": "7f077d82",
   "metadata": {},
   "source": [
    "### merge de bureau avec application train/test"
   ]
  },
  {
   "cell_type": "code",
   "execution_count": null,
   "id": "f056cdee",
   "metadata": {},
   "outputs": [],
   "source": [
    "application_train.agg = application_train.copy()\n",
    "application_test.agg = application_test.copy()"
   ]
  },
  {
   "cell_type": "code",
   "execution_count": null,
   "id": "d80d4789",
   "metadata": {},
   "outputs": [],
   "source": [
    "bureau.agg"
   ]
  },
  {
   "cell_type": "code",
   "execution_count": null,
   "id": "2dc95758",
   "metadata": {},
   "outputs": [],
   "source": [
    "application_train.agg = pd.merge(application_train.agg, bureau.agg.reset_index(),\n",
    "                                                how='left',\n",
    "                                                on='SK_ID_CURR')\n",
    "application_test.agg  = pd.merge(application_test.agg, bureau.agg.reset_index(),\n",
    "                                                how='left',\n",
    "                                                on='SK_ID_CURR')"
   ]
  },
  {
   "cell_type": "code",
   "execution_count": null,
   "id": "a978ec1c",
   "metadata": {},
   "outputs": [],
   "source": [
    "application_train.agg"
   ]
  },
  {
   "cell_type": "code",
   "execution_count": null,
   "id": "c7ae7ba7",
   "metadata": {},
   "outputs": [],
   "source": [
    "application_train"
   ]
  },
  {
   "cell_type": "code",
   "execution_count": null,
   "id": "e0faa438",
   "metadata": {},
   "outputs": [],
   "source": [
    "previous_application_agg"
   ]
  },
  {
   "cell_type": "markdown",
   "id": "44f266a2",
   "metadata": {},
   "source": [
    "## merge de previous application avec application train/test"
   ]
  },
  {
   "cell_type": "code",
   "execution_count": null,
   "id": "f0debb48",
   "metadata": {},
   "outputs": [],
   "source": [
    "previous_application_agg_1 = previous_application_agg.copy()"
   ]
  },
  {
   "cell_type": "markdown",
   "id": "89b6bfa9",
   "metadata": {},
   "source": [
    "Previous_Application____train/test_data"
   ]
  },
  {
   "cell_type": "code",
   "execution_count": null,
   "id": "11482e15",
   "metadata": {},
   "outputs": [],
   "source": [
    "previous_application_agg_1"
   ]
  },
  {
   "cell_type": "code",
   "execution_count": null,
   "id": "30ebccae",
   "metadata": {},
   "outputs": [],
   "source": [
    "useless_cols = [  'NAME_CONTRACT_STATUS1',                  \n",
    "                  'WEEKDAY_APPR_PROCESS_START',\n",
    "                  'FLAG_LAST_APPL_PER_CONTRACT',\n",
    "                  'NFLAG_LAST_APPL_IN_DAY',\n",
    "                  'NAME_TYPE_SUITE',\n",
    "                  'NAME_SELLER_INDUSTRY',\n",
    "                  'NAME_YIELD_GROUP',\n",
    "                  'CHANNEL_TYPE',\n",
    "                  'NAME_CLIENT_TYPE',\n",
    "                  'NAME_PRODUCT_TYPE',\n",
    "                  'SELLERPLACE_AREA',\n",
    "                  'NAME_GOODS_CATEGORY',\n",
    "                  'HOUR_APPR_PROCESS_START',\n",
    "                  'NAME_CASH_LOAN_PURPOSE',\n",
    "                  'DAYS_FIRST_DRAWING',\n",
    "                  'AMT_GOODS_PRICE',\n",
    "                  'CODE_REJECT_REASON',\n",
    "                  'PRODUCT_COMBINATION',\n",
    "                  'NFLAG_INSURED_ON_APPROVAL'\n",
    "                  ]\n",
    "\n",
    "previous_application_agg_1 = previous_application_agg_1.drop(columns=useless_cols)"
   ]
  },
  {
   "cell_type": "code",
   "execution_count": null,
   "id": "98f8e147",
   "metadata": {},
   "outputs": [],
   "source": [
    "mat_corr(previous_application_agg_1, 16, 16)"
   ]
  },
  {
   "cell_type": "code",
   "execution_count": null,
   "id": "0488245c",
   "metadata": {},
   "outputs": [],
   "source": [
    "cat_cols = previous_application_agg_1.select_dtypes(include='object').columns\n",
    "for col in cat_cols:\n",
    "    previous_application_agg_1[col] = \\\n",
    "                    previous_application_agg_1[col]\\\n",
    "                                .map(lambda x: x if x != 'XNA' else np.nan)"
   ]
  },
  {
   "cell_type": "code",
   "execution_count": null,
   "id": "c8e45f70",
   "metadata": {},
   "outputs": [],
   "source": [
    "previous_application_agg_1.select_dtypes(include='object')"
   ]
  },
  {
   "cell_type": "code",
   "execution_count": null,
   "id": "7b840ba4",
   "metadata": {},
   "outputs": [],
   "source": [
    "previous_application_agg_1 = pd.get_dummies(previous_application_agg_1,\n",
    "                                prefix='NAME_CONTRACT_TYPE',\n",
    "                                columns=['NAME_CONTRACT_TYPE'])"
   ]
  },
  {
   "cell_type": "code",
   "execution_count": null,
   "id": "db0931d2",
   "metadata": {},
   "outputs": [],
   "source": [
    "previous_application_agg_1 = pd.get_dummies(previous_application_agg_1,\n",
    "                                prefix='NAME_CONTRACT_STATUS',\n",
    "                                columns=['NAME_CONTRACT_STATUS'])"
   ]
  },
  {
   "cell_type": "code",
   "execution_count": null,
   "id": "2e210e47",
   "metadata": {},
   "outputs": [],
   "source": [
    "previous_application_agg_1 = pd.get_dummies(previous_application_agg_1,\n",
    "                                prefix='NAME_PAYMENT_TYPE',\n",
    "                                columns=['NAME_PAYMENT_TYPE'])"
   ]
  },
  {
   "cell_type": "code",
   "execution_count": null,
   "id": "4adbf411",
   "metadata": {},
   "outputs": [],
   "source": [
    "previous_application_agg_1 = pd.get_dummies(previous_application_agg_1,\n",
    "                                prefix='NAME_PORTFOLIO',\n",
    "                                columns=['NAME_PORTFOLIO'])"
   ]
  },
  {
   "cell_type": "code",
   "execution_count": null,
   "id": "cea2e1e8",
   "metadata": {},
   "outputs": [],
   "source": [
    "# initial duration and effective duration of the loan\n",
    "\n",
    "previous_application_agg_1 = \\\n",
    "   previous_application_agg_1.assign(DAYS_TOT_DURATION_INIT = \\\n",
    "                                lambda x: x['DAYS_LAST_DUE_1ST_VERSION'] - \\\n",
    "                                                        x['DAYS_FIRST_DUE'],\n",
    "                                                          DAYS_TOT_DURATION = \\\n",
    "                                lambda x: x['DAYS_TERMINATION'] - \\\n",
    "                                                    x['DAYS_FIRST_DUE'])"
   ]
  },
  {
   "cell_type": "code",
   "execution_count": null,
   "id": "c2fa57af",
   "metadata": {},
   "outputs": [],
   "source": [
    "# nb of days the contract has been prolongated\n",
    "\n",
    "previous_application_agg_1 = \\\n",
    "    previous_application_agg_1.assign(DAYS_PROLONG_PCT = \\\n",
    "                    lambda x: 100*(x['DAYS_TOT_DURATION_INIT'] - \\\n",
    "                                        x['DAYS_TOT_DURATION'])/ \\\n",
    "                                    x['DAYS_TOT_DURATION_INIT'])"
   ]
  },
  {
   "cell_type": "code",
   "execution_count": null,
   "id": "7632f36b",
   "metadata": {},
   "outputs": [],
   "source": [
    "# difference between obtained and asked amount\n",
    "previous_application_agg_1 = \\\n",
    "   previous_application_agg_1.assign(AMT_DIFF_PCT = \\\n",
    "                        lambda x: 100*(x['AMT_CREDIT'] - x['AMT_APPLICATION']) / \\\n",
    "                                x['AMT_APPLICATION'])"
   ]
  },
  {
   "cell_type": "code",
   "execution_count": null,
   "id": "a48c5c93",
   "metadata": {},
   "outputs": [],
   "source": [
    "# obtained amount per month of contract \n",
    "previous_application_agg_1 = \\\n",
    "    previous_application_agg_1.assign(AMT_PER_MONTH = \\\n",
    "                        lambda x: x['AMT_CREDIT'] / (x['DAYS_TOT_DURATION']*365/12))"
   ]
  },
  {
   "cell_type": "code",
   "execution_count": null,
   "id": "5f2bf8ef",
   "metadata": {},
   "outputs": [],
   "source": [
    "df_na = previous_application_agg_1.isna().sum()/len(previous_application_agg_1)*100\n",
    "# Affichage graphique\n",
    "fig = plt.figure(1, figsize=(10, 4))\n",
    "#if df_na.values > 70:\n",
    "sns.barplot(x=df_na.index, y=df_na.values)\n",
    "plt.xticks(rotation=90)\n",
    "plt.xlabel(\"\")\n",
    "plt.ylabel(\"%\")\n",
    "plt.title(\"Pourcentage de donnÃƒÂ©es manquantes\")\n",
    "plt.show()"
   ]
  },
  {
   "cell_type": "code",
   "execution_count": null,
   "id": "f76d7e0d",
   "metadata": {},
   "outputs": [],
   "source": [
    "list_var_to_drop = []\n",
    "for i, j in zip(df_na.index, df_na.values):\n",
    "    if j>= 90:\n",
    "        list_var_to_drop.append(i)\n",
    "        "
   ]
  },
  {
   "cell_type": "code",
   "execution_count": null,
   "id": "e22bfddd",
   "metadata": {},
   "outputs": [],
   "source": [
    "list_var_to_drop "
   ]
  },
  {
   "cell_type": "code",
   "execution_count": null,
   "id": "ac7151ca",
   "metadata": {},
   "outputs": [],
   "source": [
    "previous_application_agg_1 = previous_application_agg_1.drop(list_var_to_drop, axis = 1)"
   ]
  },
  {
   "cell_type": "code",
   "execution_count": null,
   "id": "b7d2b9ce",
   "metadata": {},
   "outputs": [],
   "source": [
    "mat_corr(previous_application_agg_1, 16, 16)"
   ]
  },
  {
   "cell_type": "code",
   "execution_count": null,
   "id": "60218d27",
   "metadata": {},
   "outputs": [],
   "source": [
    "all_cols = list(previous_application_agg_1.columns)"
   ]
  },
  {
   "cell_type": "code",
   "execution_count": null,
   "id": "63a93563",
   "metadata": {},
   "outputs": [],
   "source": [
    "all_cols"
   ]
  },
  {
   "cell_type": "code",
   "execution_count": null,
   "id": "2b08a4cc",
   "metadata": {},
   "outputs": [],
   "source": [
    "dummies_cols = ['NAME_CONTRACT_TYPE_Cash loans', 'NAME_CONTRACT_TYPE_Consumer loans',\n",
    "       'NAME_CONTRACT_TYPE_Revolving loans', 'NAME_CONTRACT_STATUS_Approved',\n",
    "       'NAME_CONTRACT_STATUS_Canceled', 'NAME_CONTRACT_STATUS_Refused',\n",
    "       'NAME_CONTRACT_STATUS_Unused offer',\n",
    "       'NAME_PAYMENT_TYPE_Cash through the bank',\n",
    "       'NAME_PAYMENT_TYPE_Cashless from the account of the employer',\n",
    "       'NAME_PAYMENT_TYPE_Non-cash from your account', 'NAME_PORTFOLIO_Cards',\n",
    "       'NAME_PORTFOLIO_Cars', 'NAME_PORTFOLIO_Cash', 'NAME_PORTFOLIO_POS']\n"
   ]
  },
  {
   "cell_type": "code",
   "execution_count": null,
   "id": "ec0dc982",
   "metadata": {},
   "outputs": [],
   "source": [
    "other_cols = [col for col in all_cols if col not in dummies_cols]"
   ]
  },
  {
   "cell_type": "code",
   "execution_count": null,
   "id": "09083416",
   "metadata": {},
   "outputs": [],
   "source": [
    "lsit_agg_name = ['abs_min', 'max', 'sum', 'mean', 'nunique', 'min', 'size']"
   ]
  },
  {
   "cell_type": "code",
   "execution_count": null,
   "id": "db442386",
   "metadata": {},
   "outputs": [],
   "source": [
    "cols_dummies_agg = []\n",
    "for i in other_cols:\n",
    "    for j in lsit_agg_name:\n",
    "        if j in i:\n",
    "            cols_dummies_agg.append(i)"
   ]
  },
  {
   "cell_type": "code",
   "execution_count": null,
   "id": "9275f65a",
   "metadata": {},
   "outputs": [],
   "source": [
    "originals_cols = [col for col in other_cols if col not in cols_dummies_agg + ['SK_ID_PREV',\n",
    " 'SK_ID_CURR']]"
   ]
  },
  {
   "cell_type": "code",
   "execution_count": null,
   "id": "326c16d8",
   "metadata": {},
   "outputs": [],
   "source": [
    "dico_agg_cols = {}\n",
    "for list_agg in lsit_agg_name:\n",
    "    for cols in cols_dummies_agg:\n",
    "        if list_agg in cols:\n",
    "            dico_agg_cols[cols] = list_agg"
   ]
  },
  {
   "cell_type": "code",
   "execution_count": null,
   "id": "47cad327",
   "metadata": {},
   "outputs": [],
   "source": [
    "dict_col_originals = {\n",
    "          'DAYS_LAST_DUE_1ST_VERSION': ['min', 'max'],\n",
    "          'DAYS_FIRST_DUE': ['min', 'max'],\n",
    "          'CNT_PAYMENT': ['sum', 'mean', 'max'] , # nb of months of the contract at application\n",
    "          'AMT_CREDIT': ['sum', 'mean', 'max'] , # amount credit obtained\n",
    "          'AMT_ANNUITY': ['mean', 'max'], # should be the same as below\n",
    "          'AMT_PER_MONTH': ['mean', 'max'], # should be the same as above\n",
    "          'DAYS_TERMINATION': ['max'], # recency of the last loan (high -> more recent)\n",
    "          'DAYS_TOT_DURATION': ['sum', 'mean', 'max'], # \n",
    "          'DAYS_PROLONG_PCT': ['mean', 'max'], # ratio of the prolongation or advanced payment\n",
    "          'AMT_DIFF_PCT': ['mean', 'max'], # ratio of amount obtained on amount asked\n",
    "          }"
   ]
  },
  {
   "cell_type": "code",
   "execution_count": null,
   "id": "f23e1bff",
   "metadata": {},
   "outputs": [],
   "source": [
    "dict_cols_to_dummies  = {}\n",
    "for i in dummies_cols:\n",
    "    dict_cols_to_dummies[i] = 'sum'"
   ]
  },
  {
   "cell_type": "code",
   "execution_count": null,
   "id": "d3647d5c",
   "metadata": {},
   "outputs": [],
   "source": [
    "dict_col_originals"
   ]
  },
  {
   "cell_type": "code",
   "execution_count": null,
   "id": "eb333326",
   "metadata": {},
   "outputs": [],
   "source": [
    "previous_application_agg_2 = \\\n",
    "            previous_application_agg_1.groupby('SK_ID_CURR').agg({**dict_col_originals, **dico_agg_cols, **dict_cols_to_dummies})"
   ]
  },
  {
   "cell_type": "code",
   "execution_count": 6,
   "id": "4ff20cde",
   "metadata": {},
   "outputs": [
    {
     "ename": "NameError",
     "evalue": "name 'previous_application_agg_2' is not defined",
     "output_type": "error",
     "traceback": [
      "\u001b[0;31m---------------------------------------------------------------------------\u001b[0m",
      "\u001b[0;31mNameError\u001b[0m                                 Traceback (most recent call last)",
      "\u001b[0;32m/var/folders/s2/hzy_2v4s2c783mp9rjk7tjzh0000gn/T/ipykernel_62995/4036071794.py\u001b[0m in \u001b[0;36m<module>\u001b[0;34m\u001b[0m\n\u001b[0;32m----> 1\u001b[0;31m \u001b[0mprevious_application_agg_2\u001b[0m\u001b[0;34m\u001b[0m\u001b[0;34m\u001b[0m\u001b[0m\n\u001b[0m",
      "\u001b[0;31mNameError\u001b[0m: name 'previous_application_agg_2' is not defined"
     ]
    }
   ],
   "source": [
    "previous_application_agg_2"
   ]
  },
  {
   "cell_type": "code",
   "execution_count": 137,
   "id": "d566c24d",
   "metadata": {},
   "outputs": [],
   "source": [
    "previous_application_agg_2.columns = ['__'.join(tup).strip() \\\n",
    "                             for tup in previous_application_agg_2.columns.values]"
   ]
  },
  {
   "cell_type": "code",
   "execution_count": 138,
   "id": "78d19276",
   "metadata": {},
   "outputs": [],
   "source": [
    "application_train.agg_1 = application_train.agg.copy() \n",
    "application_test.agg_1 = application_test.agg.copy()"
   ]
  },
  {
   "cell_type": "code",
   "execution_count": 139,
   "id": "dd6d55a5",
   "metadata": {},
   "outputs": [],
   "source": [
    "application_train.agg_1 = pd.merge(application_train.agg_1, previous_application_agg_2.reset_index(),\n",
    "                                                how='left',\n",
    "                                                on='SK_ID_CURR')\n",
    "application_test.agg_1  = pd.merge(application_test.agg_1, previous_application_agg_2.reset_index(),\n",
    "                                                how='left',\n",
    "                                                on='SK_ID_CURR')"
   ]
  },
  {
   "cell_type": "code",
   "execution_count": 141,
   "id": "8f873822",
   "metadata": {},
   "outputs": [
    {
     "data": {
      "text/html": [
       "<div>\n",
       "<style scoped>\n",
       "    .dataframe tbody tr th:only-of-type {\n",
       "        vertical-align: middle;\n",
       "    }\n",
       "\n",
       "    .dataframe tbody tr th {\n",
       "        vertical-align: top;\n",
       "    }\n",
       "\n",
       "    .dataframe thead th {\n",
       "        text-align: right;\n",
       "    }\n",
       "</style>\n",
       "<table border=\"1\" class=\"dataframe\">\n",
       "  <thead>\n",
       "    <tr style=\"text-align: right;\">\n",
       "      <th></th>\n",
       "      <th>SK_ID_CURR</th>\n",
       "      <th>TARGET</th>\n",
       "      <th>NAME_CONTRACT_TYPE</th>\n",
       "      <th>CODE_GENDER</th>\n",
       "      <th>FLAG_OWN_CAR</th>\n",
       "      <th>FLAG_OWN_REALTY</th>\n",
       "      <th>CNT_CHILDREN</th>\n",
       "      <th>AMT_INCOME_TOTAL</th>\n",
       "      <th>AMT_CREDIT</th>\n",
       "      <th>AMT_ANNUITY</th>\n",
       "      <th>...</th>\n",
       "      <th>NAME_CONTRACT_STATUS_Canceled__sum</th>\n",
       "      <th>NAME_CONTRACT_STATUS_Refused__sum</th>\n",
       "      <th>NAME_CONTRACT_STATUS_Unused offer__sum</th>\n",
       "      <th>NAME_PAYMENT_TYPE_Cash through the bank__sum</th>\n",
       "      <th>NAME_PAYMENT_TYPE_Cashless from the account of the employer__sum</th>\n",
       "      <th>NAME_PAYMENT_TYPE_Non-cash from your account__sum</th>\n",
       "      <th>NAME_PORTFOLIO_Cards__sum</th>\n",
       "      <th>NAME_PORTFOLIO_Cars__sum</th>\n",
       "      <th>NAME_PORTFOLIO_Cash__sum</th>\n",
       "      <th>NAME_PORTFOLIO_POS__sum</th>\n",
       "    </tr>\n",
       "  </thead>\n",
       "  <tbody>\n",
       "    <tr>\n",
       "      <th>0</th>\n",
       "      <td>100002</td>\n",
       "      <td>1</td>\n",
       "      <td>Cash loans</td>\n",
       "      <td>M</td>\n",
       "      <td>N</td>\n",
       "      <td>Y</td>\n",
       "      <td>0</td>\n",
       "      <td>202500.0</td>\n",
       "      <td>406597.5</td>\n",
       "      <td>24700.5</td>\n",
       "      <td>...</td>\n",
       "      <td>0.0</td>\n",
       "      <td>0.0</td>\n",
       "      <td>0.0</td>\n",
       "      <td>0.0</td>\n",
       "      <td>0.0</td>\n",
       "      <td>0.0</td>\n",
       "      <td>0.0</td>\n",
       "      <td>0.0</td>\n",
       "      <td>0.0</td>\n",
       "      <td>1.0</td>\n",
       "    </tr>\n",
       "    <tr>\n",
       "      <th>1</th>\n",
       "      <td>100003</td>\n",
       "      <td>0</td>\n",
       "      <td>Cash loans</td>\n",
       "      <td>F</td>\n",
       "      <td>N</td>\n",
       "      <td>N</td>\n",
       "      <td>0</td>\n",
       "      <td>270000.0</td>\n",
       "      <td>1293502.5</td>\n",
       "      <td>35698.5</td>\n",
       "      <td>...</td>\n",
       "      <td>0.0</td>\n",
       "      <td>0.0</td>\n",
       "      <td>0.0</td>\n",
       "      <td>2.0</td>\n",
       "      <td>0.0</td>\n",
       "      <td>0.0</td>\n",
       "      <td>0.0</td>\n",
       "      <td>0.0</td>\n",
       "      <td>1.0</td>\n",
       "      <td>2.0</td>\n",
       "    </tr>\n",
       "    <tr>\n",
       "      <th>2</th>\n",
       "      <td>100004</td>\n",
       "      <td>0</td>\n",
       "      <td>Revolving loans</td>\n",
       "      <td>M</td>\n",
       "      <td>Y</td>\n",
       "      <td>Y</td>\n",
       "      <td>0</td>\n",
       "      <td>67500.0</td>\n",
       "      <td>135000.0</td>\n",
       "      <td>6750.0</td>\n",
       "      <td>...</td>\n",
       "      <td>0.0</td>\n",
       "      <td>0.0</td>\n",
       "      <td>0.0</td>\n",
       "      <td>1.0</td>\n",
       "      <td>0.0</td>\n",
       "      <td>0.0</td>\n",
       "      <td>0.0</td>\n",
       "      <td>0.0</td>\n",
       "      <td>0.0</td>\n",
       "      <td>1.0</td>\n",
       "    </tr>\n",
       "    <tr>\n",
       "      <th>3</th>\n",
       "      <td>100006</td>\n",
       "      <td>0</td>\n",
       "      <td>Cash loans</td>\n",
       "      <td>F</td>\n",
       "      <td>N</td>\n",
       "      <td>Y</td>\n",
       "      <td>0</td>\n",
       "      <td>135000.0</td>\n",
       "      <td>312682.5</td>\n",
       "      <td>29686.5</td>\n",
       "      <td>...</td>\n",
       "      <td>3.0</td>\n",
       "      <td>1.0</td>\n",
       "      <td>0.0</td>\n",
       "      <td>4.0</td>\n",
       "      <td>0.0</td>\n",
       "      <td>0.0</td>\n",
       "      <td>1.0</td>\n",
       "      <td>0.0</td>\n",
       "      <td>3.0</td>\n",
       "      <td>2.0</td>\n",
       "    </tr>\n",
       "    <tr>\n",
       "      <th>4</th>\n",
       "      <td>100007</td>\n",
       "      <td>0</td>\n",
       "      <td>Cash loans</td>\n",
       "      <td>M</td>\n",
       "      <td>N</td>\n",
       "      <td>Y</td>\n",
       "      <td>0</td>\n",
       "      <td>121500.0</td>\n",
       "      <td>513000.0</td>\n",
       "      <td>21865.5</td>\n",
       "      <td>...</td>\n",
       "      <td>0.0</td>\n",
       "      <td>0.0</td>\n",
       "      <td>0.0</td>\n",
       "      <td>5.0</td>\n",
       "      <td>0.0</td>\n",
       "      <td>0.0</td>\n",
       "      <td>0.0</td>\n",
       "      <td>0.0</td>\n",
       "      <td>4.0</td>\n",
       "      <td>2.0</td>\n",
       "    </tr>\n",
       "    <tr>\n",
       "      <th>...</th>\n",
       "      <td>...</td>\n",
       "      <td>...</td>\n",
       "      <td>...</td>\n",
       "      <td>...</td>\n",
       "      <td>...</td>\n",
       "      <td>...</td>\n",
       "      <td>...</td>\n",
       "      <td>...</td>\n",
       "      <td>...</td>\n",
       "      <td>...</td>\n",
       "      <td>...</td>\n",
       "      <td>...</td>\n",
       "      <td>...</td>\n",
       "      <td>...</td>\n",
       "      <td>...</td>\n",
       "      <td>...</td>\n",
       "      <td>...</td>\n",
       "      <td>...</td>\n",
       "      <td>...</td>\n",
       "      <td>...</td>\n",
       "      <td>...</td>\n",
       "    </tr>\n",
       "    <tr>\n",
       "      <th>307506</th>\n",
       "      <td>456251</td>\n",
       "      <td>0</td>\n",
       "      <td>Cash loans</td>\n",
       "      <td>M</td>\n",
       "      <td>N</td>\n",
       "      <td>N</td>\n",
       "      <td>0</td>\n",
       "      <td>157500.0</td>\n",
       "      <td>254700.0</td>\n",
       "      <td>27558.0</td>\n",
       "      <td>...</td>\n",
       "      <td>0.0</td>\n",
       "      <td>0.0</td>\n",
       "      <td>0.0</td>\n",
       "      <td>1.0</td>\n",
       "      <td>0.0</td>\n",
       "      <td>0.0</td>\n",
       "      <td>0.0</td>\n",
       "      <td>0.0</td>\n",
       "      <td>0.0</td>\n",
       "      <td>1.0</td>\n",
       "    </tr>\n",
       "    <tr>\n",
       "      <th>307507</th>\n",
       "      <td>456252</td>\n",
       "      <td>0</td>\n",
       "      <td>Cash loans</td>\n",
       "      <td>F</td>\n",
       "      <td>N</td>\n",
       "      <td>Y</td>\n",
       "      <td>0</td>\n",
       "      <td>72000.0</td>\n",
       "      <td>269550.0</td>\n",
       "      <td>12001.5</td>\n",
       "      <td>...</td>\n",
       "      <td>0.0</td>\n",
       "      <td>0.0</td>\n",
       "      <td>0.0</td>\n",
       "      <td>1.0</td>\n",
       "      <td>0.0</td>\n",
       "      <td>0.0</td>\n",
       "      <td>0.0</td>\n",
       "      <td>0.0</td>\n",
       "      <td>0.0</td>\n",
       "      <td>1.0</td>\n",
       "    </tr>\n",
       "    <tr>\n",
       "      <th>307508</th>\n",
       "      <td>456253</td>\n",
       "      <td>0</td>\n",
       "      <td>Cash loans</td>\n",
       "      <td>F</td>\n",
       "      <td>N</td>\n",
       "      <td>Y</td>\n",
       "      <td>0</td>\n",
       "      <td>153000.0</td>\n",
       "      <td>677664.0</td>\n",
       "      <td>29979.0</td>\n",
       "      <td>...</td>\n",
       "      <td>0.0</td>\n",
       "      <td>0.0</td>\n",
       "      <td>0.0</td>\n",
       "      <td>2.0</td>\n",
       "      <td>0.0</td>\n",
       "      <td>0.0</td>\n",
       "      <td>0.0</td>\n",
       "      <td>0.0</td>\n",
       "      <td>0.0</td>\n",
       "      <td>2.0</td>\n",
       "    </tr>\n",
       "    <tr>\n",
       "      <th>307509</th>\n",
       "      <td>456254</td>\n",
       "      <td>1</td>\n",
       "      <td>Cash loans</td>\n",
       "      <td>F</td>\n",
       "      <td>N</td>\n",
       "      <td>Y</td>\n",
       "      <td>0</td>\n",
       "      <td>171000.0</td>\n",
       "      <td>370107.0</td>\n",
       "      <td>20205.0</td>\n",
       "      <td>...</td>\n",
       "      <td>0.0</td>\n",
       "      <td>0.0</td>\n",
       "      <td>0.0</td>\n",
       "      <td>2.0</td>\n",
       "      <td>0.0</td>\n",
       "      <td>0.0</td>\n",
       "      <td>0.0</td>\n",
       "      <td>0.0</td>\n",
       "      <td>0.0</td>\n",
       "      <td>2.0</td>\n",
       "    </tr>\n",
       "    <tr>\n",
       "      <th>307510</th>\n",
       "      <td>456255</td>\n",
       "      <td>0</td>\n",
       "      <td>Cash loans</td>\n",
       "      <td>F</td>\n",
       "      <td>N</td>\n",
       "      <td>N</td>\n",
       "      <td>0</td>\n",
       "      <td>157500.0</td>\n",
       "      <td>675000.0</td>\n",
       "      <td>49117.5</td>\n",
       "      <td>...</td>\n",
       "      <td>0.0</td>\n",
       "      <td>2.0</td>\n",
       "      <td>0.0</td>\n",
       "      <td>7.0</td>\n",
       "      <td>0.0</td>\n",
       "      <td>0.0</td>\n",
       "      <td>1.0</td>\n",
       "      <td>0.0</td>\n",
       "      <td>4.0</td>\n",
       "      <td>3.0</td>\n",
       "    </tr>\n",
       "  </tbody>\n",
       "</table>\n",
       "<p>307511 rows × 229 columns</p>\n",
       "</div>"
      ],
      "text/plain": [
       "        SK_ID_CURR  TARGET NAME_CONTRACT_TYPE CODE_GENDER FLAG_OWN_CAR  \\\n",
       "0           100002       1         Cash loans           M            N   \n",
       "1           100003       0         Cash loans           F            N   \n",
       "2           100004       0    Revolving loans           M            Y   \n",
       "3           100006       0         Cash loans           F            N   \n",
       "4           100007       0         Cash loans           M            N   \n",
       "...            ...     ...                ...         ...          ...   \n",
       "307506      456251       0         Cash loans           M            N   \n",
       "307507      456252       0         Cash loans           F            N   \n",
       "307508      456253       0         Cash loans           F            N   \n",
       "307509      456254       1         Cash loans           F            N   \n",
       "307510      456255       0         Cash loans           F            N   \n",
       "\n",
       "       FLAG_OWN_REALTY  CNT_CHILDREN  AMT_INCOME_TOTAL  AMT_CREDIT  \\\n",
       "0                    Y             0          202500.0    406597.5   \n",
       "1                    N             0          270000.0   1293502.5   \n",
       "2                    Y             0           67500.0    135000.0   \n",
       "3                    Y             0          135000.0    312682.5   \n",
       "4                    Y             0          121500.0    513000.0   \n",
       "...                ...           ...               ...         ...   \n",
       "307506               N             0          157500.0    254700.0   \n",
       "307507               Y             0           72000.0    269550.0   \n",
       "307508               Y             0          153000.0    677664.0   \n",
       "307509               Y             0          171000.0    370107.0   \n",
       "307510               N             0          157500.0    675000.0   \n",
       "\n",
       "        AMT_ANNUITY  ...  NAME_CONTRACT_STATUS_Canceled__sum  \\\n",
       "0           24700.5  ...                                 0.0   \n",
       "1           35698.5  ...                                 0.0   \n",
       "2            6750.0  ...                                 0.0   \n",
       "3           29686.5  ...                                 3.0   \n",
       "4           21865.5  ...                                 0.0   \n",
       "...             ...  ...                                 ...   \n",
       "307506      27558.0  ...                                 0.0   \n",
       "307507      12001.5  ...                                 0.0   \n",
       "307508      29979.0  ...                                 0.0   \n",
       "307509      20205.0  ...                                 0.0   \n",
       "307510      49117.5  ...                                 0.0   \n",
       "\n",
       "       NAME_CONTRACT_STATUS_Refused__sum  \\\n",
       "0                                    0.0   \n",
       "1                                    0.0   \n",
       "2                                    0.0   \n",
       "3                                    1.0   \n",
       "4                                    0.0   \n",
       "...                                  ...   \n",
       "307506                               0.0   \n",
       "307507                               0.0   \n",
       "307508                               0.0   \n",
       "307509                               0.0   \n",
       "307510                               2.0   \n",
       "\n",
       "       NAME_CONTRACT_STATUS_Unused offer__sum  \\\n",
       "0                                         0.0   \n",
       "1                                         0.0   \n",
       "2                                         0.0   \n",
       "3                                         0.0   \n",
       "4                                         0.0   \n",
       "...                                       ...   \n",
       "307506                                    0.0   \n",
       "307507                                    0.0   \n",
       "307508                                    0.0   \n",
       "307509                                    0.0   \n",
       "307510                                    0.0   \n",
       "\n",
       "       NAME_PAYMENT_TYPE_Cash through the bank__sum  \\\n",
       "0                                               0.0   \n",
       "1                                               2.0   \n",
       "2                                               1.0   \n",
       "3                                               4.0   \n",
       "4                                               5.0   \n",
       "...                                             ...   \n",
       "307506                                          1.0   \n",
       "307507                                          1.0   \n",
       "307508                                          2.0   \n",
       "307509                                          2.0   \n",
       "307510                                          7.0   \n",
       "\n",
       "       NAME_PAYMENT_TYPE_Cashless from the account of the employer__sum  \\\n",
       "0                                                     0.0                 \n",
       "1                                                     0.0                 \n",
       "2                                                     0.0                 \n",
       "3                                                     0.0                 \n",
       "4                                                     0.0                 \n",
       "...                                                   ...                 \n",
       "307506                                                0.0                 \n",
       "307507                                                0.0                 \n",
       "307508                                                0.0                 \n",
       "307509                                                0.0                 \n",
       "307510                                                0.0                 \n",
       "\n",
       "       NAME_PAYMENT_TYPE_Non-cash from your account__sum  \\\n",
       "0                                                    0.0   \n",
       "1                                                    0.0   \n",
       "2                                                    0.0   \n",
       "3                                                    0.0   \n",
       "4                                                    0.0   \n",
       "...                                                  ...   \n",
       "307506                                               0.0   \n",
       "307507                                               0.0   \n",
       "307508                                               0.0   \n",
       "307509                                               0.0   \n",
       "307510                                               0.0   \n",
       "\n",
       "        NAME_PORTFOLIO_Cards__sum  NAME_PORTFOLIO_Cars__sum  \\\n",
       "0                             0.0                       0.0   \n",
       "1                             0.0                       0.0   \n",
       "2                             0.0                       0.0   \n",
       "3                             1.0                       0.0   \n",
       "4                             0.0                       0.0   \n",
       "...                           ...                       ...   \n",
       "307506                        0.0                       0.0   \n",
       "307507                        0.0                       0.0   \n",
       "307508                        0.0                       0.0   \n",
       "307509                        0.0                       0.0   \n",
       "307510                        1.0                       0.0   \n",
       "\n",
       "        NAME_PORTFOLIO_Cash__sum  NAME_PORTFOLIO_POS__sum  \n",
       "0                            0.0                      1.0  \n",
       "1                            1.0                      2.0  \n",
       "2                            0.0                      1.0  \n",
       "3                            3.0                      2.0  \n",
       "4                            4.0                      2.0  \n",
       "...                          ...                      ...  \n",
       "307506                       0.0                      1.0  \n",
       "307507                       0.0                      1.0  \n",
       "307508                       0.0                      2.0  \n",
       "307509                       0.0                      2.0  \n",
       "307510                       4.0                      3.0  \n",
       "\n",
       "[307511 rows x 229 columns]"
      ]
     },
     "execution_count": 141,
     "metadata": {},
     "output_type": "execute_result"
    }
   ],
   "source": [
    "application_train.agg_1"
   ]
  },
  {
   "cell_type": "markdown",
   "id": "6f388efe",
   "metadata": {},
   "source": [
    "## Save_data"
   ]
  },
  {
   "cell_type": "code",
   "execution_count": 142,
   "id": "f6be0adc",
   "metadata": {},
   "outputs": [],
   "source": [
    "application_train.agg_1.to_csv(file_path + 'application_train.agg_2')"
   ]
  },
  {
   "cell_type": "code",
   "execution_count": 143,
   "id": "55769788",
   "metadata": {},
   "outputs": [],
   "source": [
    "application_test.agg_1.to_csv(file_path + 'application_test.agg_2')"
   ]
  },
  {
   "cell_type": "code",
   "execution_count": 268,
   "id": "8aab311e",
   "metadata": {},
   "outputs": [],
   "source": [
    "application_train.agg_1.to_csv('application_train.agg_1', index = False)"
   ]
  },
  {
   "cell_type": "markdown",
   "id": "a52c2644",
   "metadata": {},
   "source": [
    "Je vous invite à consulter le notebook suivant(Preprocessing) pour découvrir la suite de ce travail."
   ]
  },
  {
   "cell_type": "code",
   "execution_count": null,
   "id": "6adb109d",
   "metadata": {},
   "outputs": [],
   "source": []
  }
 ],
 "metadata": {
  "kernelspec": {
   "display_name": "Python 3 (ipykernel)",
   "language": "python",
   "name": "python3"
  },
  "language_info": {
   "codemirror_mode": {
    "name": "ipython",
    "version": 3
   },
   "file_extension": ".py",
   "mimetype": "text/x-python",
   "name": "python",
   "nbconvert_exporter": "python",
   "pygments_lexer": "ipython3",
   "version": "3.9.13"
  },
  "toc": {
   "base_numbering": "1.1",
   "nav_menu": {},
   "number_sections": true,
   "sideBar": true,
   "skip_h1_title": true,
   "title_cell": "Table of Contents",
   "title_sidebar": "Contents",
   "toc_cell": true,
   "toc_position": {
    "height": "calc(100% - 180px)",
    "left": "10px",
    "top": "150px",
    "width": "236px"
   },
   "toc_section_display": true,
   "toc_window_display": true
  }
 },
 "nbformat": 4,
 "nbformat_minor": 5
}
